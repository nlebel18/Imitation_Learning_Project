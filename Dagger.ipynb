{
 "cells": [
  {
   "cell_type": "markdown",
   "metadata": {},
   "source": [
    "### Dagger "
   ]
  },
  {
   "cell_type": "code",
<<<<<<< HEAD
   "execution_count": 9,
   "metadata": {},
   "outputs": [
    {
     "name": "stdout",
     "output_type": "stream",
     "text": [
      "Temporary directory: C:\\Users\\Sorbonne\\AppData\\Local\\Temp\\dagger_example_j1r5a7he\n"
     ]
    },
    {
     "data": {
      "application/vnd.jupyter.widget-view+json": {
       "model_id": "5801da6a1e1c4c289c418c8acd832c67",
       "version_major": 2,
       "version_minor": 0
      },
      "text/plain": [
       "Saving the dataset (0/1 shards):   0%|          | 0/1 [00:00<?, ? examples/s]"
      ]
     },
     "metadata": {},
     "output_type": "display_data"
    },
    {
     "data": {
      "application/vnd.jupyter.widget-view+json": {
       "model_id": "516a7f51982e450292626fd2d9a41c75",
       "version_major": 2,
       "version_minor": 0
      },
      "text/plain": [
       "Saving the dataset (0/1 shards):   0%|          | 0/1 [00:00<?, ? examples/s]"
      ]
     },
     "metadata": {},
     "output_type": "display_data"
    },
    {
     "data": {
      "application/vnd.jupyter.widget-view+json": {
       "model_id": "06314cca9ae049ea8a14dbc3c325f6ea",
       "version_major": 2,
       "version_minor": 0
      },
      "text/plain": [
       "Saving the dataset (0/1 shards):   0%|          | 0/1 [00:00<?, ? examples/s]"
      ]
     },
     "metadata": {},
     "output_type": "display_data"
    },
    {
     "name": "stderr",
     "output_type": "stream",
     "text": [
      "0batch [00:00, ?batch/s]"
     ]
    },
    {
     "name": "stdout",
     "output_type": "stream",
     "text": [
      "---------------------------------\n",
      "| batch_size        | 32        |\n",
      "| bc/               |           |\n",
      "|    batch          | 0         |\n",
      "|    ent_loss       | -0.000693 |\n",
      "|    entropy        | 0.693     |\n",
      "|    epoch          | 0         |\n",
      "|    l2_loss        | 0         |\n",
      "|    l2_norm        | 72.5      |\n",
      "|    loss           | 0.692     |\n",
      "|    neglogp        | 0.693     |\n",
      "|    prob_true_act  | 0.5       |\n",
      "|    samples_so_far | 32        |\n",
      "| rollout/          |           |\n",
      "|    return_max     | 33        |\n",
      "|    return_mean    | 20.6      |\n",
      "|    return_min     | 11        |\n",
      "|    return_std     | 7.71      |\n",
      "---------------------------------\n"
     ]
    },
    {
     "name": "stderr",
     "output_type": "stream",
     "text": [
      "152batch [00:00, 206.72batch/s]\n"
     ]
    },
    {
     "data": {
      "application/vnd.jupyter.widget-view+json": {
       "model_id": "5501f99939964edbb32a061aa813e750",
       "version_major": 2,
       "version_minor": 0
      },
      "text/plain": [
       "Saving the dataset (0/1 shards):   0%|          | 0/1 [00:00<?, ? examples/s]"
      ]
     },
     "metadata": {},
     "output_type": "display_data"
    },
    {
     "data": {
      "application/vnd.jupyter.widget-view+json": {
       "model_id": "9f80b2f01b884aa8a94c98b361327181",
       "version_major": 2,
       "version_minor": 0
      },
      "text/plain": [
       "Saving the dataset (0/1 shards):   0%|          | 0/1 [00:00<?, ? examples/s]"
      ]
     },
     "metadata": {},
     "output_type": "display_data"
    },
    {
     "data": {
      "application/vnd.jupyter.widget-view+json": {
       "model_id": "e775f2abe1d84f2eb8ac65bf2528681a",
       "version_major": 2,
       "version_minor": 0
      },
      "text/plain": [
       "Saving the dataset (0/1 shards):   0%|          | 0/1 [00:00<?, ? examples/s]"
      ]
     },
     "metadata": {},
     "output_type": "display_data"
    },
    {
     "name": "stderr",
     "output_type": "stream",
     "text": [
      "0batch [00:00, ?batch/s]"
     ]
    },
    {
     "name": "stdout",
     "output_type": "stream",
     "text": [
      "---------------------------------\n",
      "| batch_size        | 32        |\n",
      "| bc/               |           |\n",
      "|    batch          | 0         |\n",
      "|    ent_loss       | -0.000352 |\n",
      "|    entropy        | 0.352     |\n",
      "|    epoch          | 0         |\n",
      "|    l2_loss        | 0         |\n",
      "|    l2_norm        | 86.7      |\n",
      "|    loss           | 0.269     |\n",
      "|    neglogp        | 0.27      |\n",
      "|    prob_true_act  | 0.801     |\n",
      "|    samples_so_far | 32        |\n",
      "| rollout/          |           |\n",
      "|    return_max     | 145       |\n",
      "|    return_mean    | 116       |\n",
      "|    return_min     | 89        |\n",
      "|    return_std     | 19.3      |\n",
      "---------------------------------\n"
     ]
    },
    {
     "name": "stderr",
     "output_type": "stream",
     "text": [
      "216batch [00:01, 161.15batch/s]\n"
     ]
    },
    {
     "data": {
      "application/vnd.jupyter.widget-view+json": {
       "model_id": "1a634d88508a4499b391e2c29da263cf",
       "version_major": 2,
       "version_minor": 0
      },
      "text/plain": [
       "Saving the dataset (0/1 shards):   0%|          | 0/1 [00:00<?, ? examples/s]"
      ]
     },
     "metadata": {},
     "output_type": "display_data"
    },
    {
     "data": {
      "application/vnd.jupyter.widget-view+json": {
       "model_id": "13355a9370544e969c1a744cdd4c898b",
       "version_major": 2,
       "version_minor": 0
      },
      "text/plain": [
       "Saving the dataset (0/1 shards):   0%|          | 0/1 [00:00<?, ? examples/s]"
      ]
     },
     "metadata": {},
     "output_type": "display_data"
    },
    {
     "data": {
      "application/vnd.jupyter.widget-view+json": {
       "model_id": "991b0ef3489d46d9a30c25090ed5a850",
       "version_major": 2,
       "version_minor": 0
      },
      "text/plain": [
       "Saving the dataset (0/1 shards):   0%|          | 0/1 [00:00<?, ? examples/s]"
      ]
     },
     "metadata": {},
     "output_type": "display_data"
    },
    {
     "name": "stderr",
     "output_type": "stream",
     "text": [
      "0batch [00:00, ?batch/s]"
     ]
    },
    {
     "name": "stdout",
     "output_type": "stream",
     "text": [
      "---------------------------------\n",
      "| batch_size        | 32        |\n",
      "| bc/               |           |\n",
      "|    batch          | 0         |\n",
      "|    ent_loss       | -0.000233 |\n",
      "|    entropy        | 0.233     |\n",
      "|    epoch          | 0         |\n",
      "|    l2_loss        | 0         |\n",
      "|    l2_norm        | 94.1      |\n",
      "|    loss           | 0.189     |\n",
      "|    neglogp        | 0.189     |\n",
      "|    prob_true_act  | 0.869     |\n",
      "|    samples_so_far | 32        |\n",
      "| rollout/          |           |\n",
      "|    return_max     | 272       |\n",
      "|    return_mean    | 144       |\n",
      "|    return_min     | 78        |\n",
      "|    return_std     | 71        |\n",
      "---------------------------------\n"
     ]
    },
    {
     "name": "stderr",
     "output_type": "stream",
     "text": [
      "280batch [00:01, 143.53batch/s]\n"
     ]
    },
    {
     "data": {
      "application/vnd.jupyter.widget-view+json": {
       "model_id": "5479d226388942ab846aa5f53919e61c",
       "version_major": 2,
       "version_minor": 0
      },
      "text/plain": [
       "Saving the dataset (0/1 shards):   0%|          | 0/1 [00:00<?, ? examples/s]"
      ]
     },
     "metadata": {},
     "output_type": "display_data"
    },
    {
     "data": {
      "application/vnd.jupyter.widget-view+json": {
       "model_id": "4b80da1d85334020b243ce5fb32db57f",
       "version_major": 2,
       "version_minor": 0
      },
      "text/plain": [
       "Saving the dataset (0/1 shards):   0%|          | 0/1 [00:00<?, ? examples/s]"
      ]
     },
     "metadata": {},
     "output_type": "display_data"
    },
    {
     "data": {
      "application/vnd.jupyter.widget-view+json": {
       "model_id": "d590ef9672784690964e1d1a34fcac16",
       "version_major": 2,
       "version_minor": 0
      },
      "text/plain": [
       "Saving the dataset (0/1 shards):   0%|          | 0/1 [00:00<?, ? examples/s]"
      ]
     },
     "metadata": {},
     "output_type": "display_data"
    },
    {
     "name": "stderr",
     "output_type": "stream",
     "text": [
      "0batch [00:00, ?batch/s]"
     ]
    },
    {
     "name": "stdout",
     "output_type": "stream",
     "text": [
      "---------------------------------\n",
      "| batch_size        | 32        |\n",
      "| bc/               |           |\n",
      "|    batch          | 0         |\n",
      "|    ent_loss       | -0.000119 |\n",
      "|    entropy        | 0.119     |\n",
      "|    epoch          | 0         |\n",
      "|    l2_loss        | 0         |\n",
      "|    l2_norm        | 103       |\n",
      "|    loss           | 0.133     |\n",
      "|    neglogp        | 0.133     |\n",
      "|    prob_true_act  | 0.918     |\n",
      "|    samples_so_far | 32        |\n",
      "| rollout/          |           |\n",
      "|    return_max     | 209       |\n",
      "|    return_mean    | 190       |\n",
      "|    return_min     | 156       |\n",
      "|    return_std     | 18        |\n",
      "---------------------------------\n"
     ]
    },
    {
     "name": "stderr",
     "output_type": "stream",
     "text": [
      "404batch [00:02, 170.37batch/s]\n"
     ]
    },
    {
     "data": {
      "application/vnd.jupyter.widget-view+json": {
       "model_id": "66e582cdb0484288bdde19858474960f",
       "version_major": 2,
       "version_minor": 0
      },
      "text/plain": [
       "Saving the dataset (0/1 shards):   0%|          | 0/1 [00:00<?, ? examples/s]"
      ]
     },
     "metadata": {},
     "output_type": "display_data"
    },
    {
     "data": {
      "application/vnd.jupyter.widget-view+json": {
       "model_id": "84955081e5b847d6ae0d49ff9eb57c9d",
       "version_major": 2,
       "version_minor": 0
      },
      "text/plain": [
       "Saving the dataset (0/1 shards):   0%|          | 0/1 [00:00<?, ? examples/s]"
      ]
     },
     "metadata": {},
     "output_type": "display_data"
    },
    {
     "data": {
      "application/vnd.jupyter.widget-view+json": {
       "model_id": "e2a9259ec8cf49b9b70d3e8a79928864",
       "version_major": 2,
       "version_minor": 0
      },
      "text/plain": [
       "Saving the dataset (0/1 shards):   0%|          | 0/1 [00:00<?, ? examples/s]"
      ]
     },
     "metadata": {},
     "output_type": "display_data"
    },
    {
     "name": "stderr",
     "output_type": "stream",
     "text": [
      "0batch [00:00, ?batch/s]"
     ]
    },
    {
     "name": "stdout",
     "output_type": "stream",
     "text": [
      "--------------------------------\n",
      "| batch_size        | 32       |\n",
      "| bc/               |          |\n",
      "|    batch          | 0        |\n",
      "|    ent_loss       | -0.00013 |\n",
      "|    entropy        | 0.13     |\n",
      "|    epoch          | 0        |\n",
      "|    l2_loss        | 0        |\n",
      "|    l2_norm        | 120      |\n",
      "|    loss           | 0.138    |\n",
      "|    neglogp        | 0.138    |\n",
      "|    prob_true_act  | 0.912    |\n",
      "|    samples_so_far | 32       |\n",
      "| rollout/          |          |\n",
      "|    return_max     | 211      |\n",
      "|    return_mean    | 177      |\n",
      "|    return_min     | 154      |\n",
      "|    return_std     | 20       |\n",
      "--------------------------------\n"
     ]
    },
    {
     "name": "stderr",
     "output_type": "stream",
     "text": [
      "492batch [00:02, 186.88batch/s]\n"
     ]
    },
    {
     "data": {
      "application/vnd.jupyter.widget-view+json": {
       "model_id": "a605188265174e54a35d8c36a5e9e1ea",
       "version_major": 2,
       "version_minor": 0
      },
      "text/plain": [
       "Saving the dataset (0/1 shards):   0%|          | 0/1 [00:00<?, ? examples/s]"
      ]
     },
     "metadata": {},
     "output_type": "display_data"
    },
    {
     "data": {
      "application/vnd.jupyter.widget-view+json": {
       "model_id": "9cb53488df6b410f936440f61c42f5ee",
       "version_major": 2,
       "version_minor": 0
      },
      "text/plain": [
       "Saving the dataset (0/1 shards):   0%|          | 0/1 [00:00<?, ? examples/s]"
      ]
     },
     "metadata": {},
     "output_type": "display_data"
    },
    {
     "data": {
      "application/vnd.jupyter.widget-view+json": {
       "model_id": "3cf9db0d6d714f92ac380ad1b3d27049",
       "version_major": 2,
       "version_minor": 0
      },
      "text/plain": [
       "Saving the dataset (0/1 shards):   0%|          | 0/1 [00:00<?, ? examples/s]"
      ]
     },
     "metadata": {},
     "output_type": "display_data"
    },
    {
     "name": "stderr",
     "output_type": "stream",
     "text": [
      "0batch [00:00, ?batch/s]"
     ]
    },
    {
     "name": "stdout",
     "output_type": "stream",
     "text": [
      "---------------------------------\n",
      "| batch_size        | 32        |\n",
      "| bc/               |           |\n",
      "|    batch          | 0         |\n",
      "|    ent_loss       | -0.000173 |\n",
      "|    entropy        | 0.173     |\n",
      "|    epoch          | 0         |\n",
      "|    l2_loss        | 0         |\n",
      "|    l2_norm        | 148       |\n",
      "|    loss           | 0.182     |\n",
      "|    neglogp        | 0.182     |\n",
      "|    prob_true_act  | 0.876     |\n",
      "|    samples_so_far | 32        |\n",
      "| rollout/          |           |\n",
      "|    return_max     | 403       |\n",
      "|    return_mean    | 291       |\n",
      "|    return_min     | 177       |\n",
      "|    return_std     | 72.1      |\n",
      "---------------------------------\n"
     ]
    },
    {
     "name": "stderr",
     "output_type": "stream",
     "text": [
      "485batch [00:02, 230.88batch/s]"
     ]
    },
    {
     "name": "stdout",
     "output_type": "stream",
     "text": [
      "--------------------------------\n",
      "| batch_size        | 32       |\n",
      "| bc/               |          |\n",
      "|    batch          | 500      |\n",
      "|    ent_loss       | -0.00017 |\n",
      "|    entropy        | 0.17     |\n",
      "|    epoch          | 3        |\n",
      "|    l2_loss        | 0        |\n",
      "|    l2_norm        | 173      |\n",
      "|    loss           | 0.0987   |\n",
      "|    neglogp        | 0.0988   |\n",
      "|    prob_true_act  | 0.918    |\n",
      "|    samples_so_far | 16032    |\n",
      "| rollout/          |          |\n",
      "|    return_max     | 367      |\n",
      "|    return_mean    | 256      |\n",
      "|    return_min     | 164      |\n",
      "|    return_std     | 75.1     |\n",
      "--------------------------------\n"
     ]
    },
    {
     "name": "stderr",
     "output_type": "stream",
     "text": [
      "576batch [00:04, 137.59batch/s]\n"
     ]
    },
    {
     "data": {
      "application/vnd.jupyter.widget-view+json": {
       "model_id": "0d30f729df4c47baaf33ff7bff7bed10",
       "version_major": 2,
       "version_minor": 0
      },
      "text/plain": [
       "Saving the dataset (0/1 shards):   0%|          | 0/1 [00:00<?, ? examples/s]"
      ]
     },
     "metadata": {},
     "output_type": "display_data"
    },
    {
     "data": {
      "application/vnd.jupyter.widget-view+json": {
       "model_id": "6578fec3f29a4cb294f89f919e1da03d",
       "version_major": 2,
       "version_minor": 0
      },
      "text/plain": [
       "Saving the dataset (0/1 shards):   0%|          | 0/1 [00:00<?, ? examples/s]"
      ]
     },
     "metadata": {},
     "output_type": "display_data"
    },
    {
     "data": {
      "application/vnd.jupyter.widget-view+json": {
       "model_id": "bfd52d397dd64032b57551304d1f3e75",
       "version_major": 2,
       "version_minor": 0
      },
      "text/plain": [
       "Saving the dataset (0/1 shards):   0%|          | 0/1 [00:00<?, ? examples/s]"
      ]
     },
     "metadata": {},
     "output_type": "display_data"
    },
    {
     "name": "stderr",
     "output_type": "stream",
     "text": [
      "0batch [00:00, ?batch/s]"
     ]
    },
    {
     "name": "stdout",
     "output_type": "stream",
     "text": [
      "---------------------------------\n",
      "| batch_size        | 32        |\n",
      "| bc/               |           |\n",
      "|    batch          | 0         |\n",
      "|    ent_loss       | -4.55e-05 |\n",
      "|    entropy        | 0.0455    |\n",
      "|    epoch          | 0         |\n",
      "|    l2_loss        | 0         |\n",
      "|    l2_norm        | 177       |\n",
      "|    loss           | 0.0578    |\n",
      "|    neglogp        | 0.0578    |\n",
      "|    prob_true_act  | 0.967     |\n",
      "|    samples_so_far | 32        |\n",
      "| rollout/          |           |\n",
      "|    return_max     | 335       |\n",
      "|    return_mean    | 244       |\n",
      "|    return_min     | 159       |\n",
      "|    return_std     | 75.6      |\n",
      "---------------------------------\n"
     ]
    },
    {
     "name": "stderr",
     "output_type": "stream",
     "text": [
      "477batch [00:02, 235.17batch/s]"
     ]
    },
    {
     "name": "stdout",
     "output_type": "stream",
     "text": [
      "---------------------------------\n",
      "| batch_size        | 32        |\n",
      "| bc/               |           |\n",
      "|    batch          | 500       |\n",
      "|    ent_loss       | -6.69e-05 |\n",
      "|    entropy        | 0.0669    |\n",
      "|    epoch          | 2         |\n",
      "|    l2_loss        | 0         |\n",
      "|    l2_norm        | 196       |\n",
      "|    loss           | 0.0449    |\n",
      "|    neglogp        | 0.0449    |\n",
      "|    prob_true_act  | 0.964     |\n",
      "|    samples_so_far | 16032     |\n",
      "| rollout/          |           |\n",
      "|    return_max     | 500       |\n",
      "|    return_mean    | 242       |\n",
      "|    return_min     | 159       |\n",
      "|    return_std     | 130       |\n",
      "---------------------------------\n"
     ]
    },
    {
     "name": "stderr",
     "output_type": "stream",
     "text": [
      "668batch [00:04, 153.45batch/s]\n"
     ]
    },
    {
     "data": {
      "application/vnd.jupyter.widget-view+json": {
       "model_id": "482d7b46d85a4b5c913dfbdd312b59f0",
       "version_major": 2,
       "version_minor": 0
      },
      "text/plain": [
       "Saving the dataset (0/1 shards):   0%|          | 0/1 [00:00<?, ? examples/s]"
      ]
     },
     "metadata": {},
     "output_type": "display_data"
    },
    {
     "data": {
      "application/vnd.jupyter.widget-view+json": {
       "model_id": "d13ab184f3e84f0aac911ee7e69aca47",
       "version_major": 2,
       "version_minor": 0
      },
      "text/plain": [
       "Saving the dataset (0/1 shards):   0%|          | 0/1 [00:00<?, ? examples/s]"
      ]
     },
     "metadata": {},
     "output_type": "display_data"
    },
    {
     "data": {
      "application/vnd.jupyter.widget-view+json": {
       "model_id": "7859fad0c15f4f969328c4ea05b07ff5",
       "version_major": 2,
       "version_minor": 0
      },
      "text/plain": [
       "Saving the dataset (0/1 shards):   0%|          | 0/1 [00:00<?, ? examples/s]"
      ]
     },
     "metadata": {},
     "output_type": "display_data"
    },
    {
     "name": "stderr",
     "output_type": "stream",
     "text": [
      "0batch [00:00, ?batch/s]"
     ]
    },
    {
     "name": "stdout",
     "output_type": "stream",
     "text": [
      "---------------------------------\n",
      "| batch_size        | 32        |\n",
      "| bc/               |           |\n",
      "|    batch          | 0         |\n",
      "|    ent_loss       | -0.000119 |\n",
      "|    entropy        | 0.119     |\n",
      "|    epoch          | 0         |\n",
      "|    l2_loss        | 0         |\n",
      "|    l2_norm        | 203       |\n",
      "|    loss           | 0.0703    |\n",
      "|    neglogp        | 0.0705    |\n",
      "|    prob_true_act  | 0.942     |\n",
      "|    samples_so_far | 32        |\n",
      "| rollout/          |           |\n",
      "|    return_max     | 434       |\n",
      "|    return_mean    | 319       |\n",
      "|    return_min     | 159       |\n",
      "|    return_std     | 107       |\n",
      "---------------------------------\n"
     ]
    },
    {
     "name": "stderr",
     "output_type": "stream",
     "text": [
      "489batch [00:02, 236.62batch/s]"
     ]
    },
    {
     "name": "stdout",
     "output_type": "stream",
     "text": [
      "---------------------------------\n",
      "| batch_size        | 32        |\n",
      "| bc/               |           |\n",
      "|    batch          | 500       |\n",
      "|    ent_loss       | -0.000103 |\n",
      "|    entropy        | 0.103     |\n",
      "|    epoch          | 2         |\n",
      "|    l2_loss        | 0         |\n",
      "|    l2_norm        | 221       |\n",
      "|    loss           | 0.094     |\n",
      "|    neglogp        | 0.0941    |\n",
      "|    prob_true_act  | 0.933     |\n",
      "|    samples_so_far | 16032     |\n",
      "| rollout/          |           |\n",
      "|    return_max     | 500       |\n",
      "|    return_mean    | 321       |\n",
      "|    return_min     | 187       |\n",
      "|    return_std     | 106       |\n",
      "---------------------------------\n"
     ]
    },
    {
     "name": "stderr",
     "output_type": "stream",
     "text": [
      "748batch [00:04, 151.85batch/s]\n"
     ]
    },
    {
     "data": {
      "application/vnd.jupyter.widget-view+json": {
       "model_id": "7701b1670c6e4311a50657456c4fb45d",
       "version_major": 2,
       "version_minor": 0
      },
      "text/plain": [
       "Saving the dataset (0/1 shards):   0%|          | 0/1 [00:00<?, ? examples/s]"
      ]
     },
     "metadata": {},
     "output_type": "display_data"
    },
    {
     "data": {
      "application/vnd.jupyter.widget-view+json": {
       "model_id": "0d63b723777e4a2d852602141c162aaf",
       "version_major": 2,
       "version_minor": 0
      },
      "text/plain": [
       "Saving the dataset (0/1 shards):   0%|          | 0/1 [00:00<?, ? examples/s]"
      ]
     },
     "metadata": {},
     "output_type": "display_data"
    },
    {
     "data": {
      "application/vnd.jupyter.widget-view+json": {
       "model_id": "54da86f675aa4f8aa8477e29f0f2772c",
       "version_major": 2,
       "version_minor": 0
      },
      "text/plain": [
       "Saving the dataset (0/1 shards):   0%|          | 0/1 [00:00<?, ? examples/s]"
      ]
     },
     "metadata": {},
     "output_type": "display_data"
    },
    {
     "name": "stderr",
     "output_type": "stream",
     "text": [
      "0batch [00:00, ?batch/s]"
     ]
    },
    {
     "name": "stdout",
     "output_type": "stream",
     "text": [
      "---------------------------------\n",
      "| batch_size        | 32        |\n",
      "| bc/               |           |\n",
      "|    batch          | 0         |\n",
      "|    ent_loss       | -0.000104 |\n",
      "|    entropy        | 0.104     |\n",
      "|    epoch          | 0         |\n",
      "|    l2_loss        | 0         |\n",
      "|    l2_norm        | 229       |\n",
      "|    loss           | 0.103     |\n",
      "|    neglogp        | 0.103     |\n",
      "|    prob_true_act  | 0.931     |\n",
      "|    samples_so_far | 32        |\n",
      "| rollout/          |           |\n",
      "|    return_max     | 254       |\n",
      "|    return_mean    | 204       |\n",
      "|    return_min     | 179       |\n",
      "|    return_std     | 26.7      |\n",
      "---------------------------------\n"
     ]
    },
    {
     "name": "stderr",
     "output_type": "stream",
     "text": [
      "483batch [00:02, 210.09batch/s]"
     ]
    },
    {
     "name": "stdout",
     "output_type": "stream",
     "text": [
      "---------------------------------\n",
      "| batch_size        | 32        |\n",
      "| bc/               |           |\n",
      "|    batch          | 500       |\n",
      "|    ent_loss       | -6.82e-05 |\n",
      "|    entropy        | 0.0682    |\n",
      "|    epoch          | 2         |\n",
      "|    l2_loss        | 0         |\n",
      "|    l2_norm        | 243       |\n",
      "|    loss           | 0.0536    |\n",
      "|    neglogp        | 0.0536    |\n",
      "|    prob_true_act  | 0.96      |\n",
      "|    samples_so_far | 16032     |\n",
      "| rollout/          |           |\n",
      "|    return_max     | 282       |\n",
      "|    return_mean    | 227       |\n",
      "|    return_min     | 181       |\n",
      "|    return_std     | 37.7      |\n",
      "---------------------------------\n"
     ]
    },
    {
     "name": "stderr",
     "output_type": "stream",
     "text": [
      "812batch [00:05, 154.44batch/s]\n"
     ]
    },
    {
     "data": {
      "application/vnd.jupyter.widget-view+json": {
       "model_id": "31b4c2748ce2454d906ea9b7f25a73cb",
       "version_major": 2,
       "version_minor": 0
      },
      "text/plain": [
       "Saving the dataset (0/1 shards):   0%|          | 0/1 [00:00<?, ? examples/s]"
      ]
     },
     "metadata": {},
     "output_type": "display_data"
    },
    {
     "data": {
      "application/vnd.jupyter.widget-view+json": {
       "model_id": "3a937126d01946f5930bcd1196d9f1ae",
       "version_major": 2,
       "version_minor": 0
      },
      "text/plain": [
       "Saving the dataset (0/1 shards):   0%|          | 0/1 [00:00<?, ? examples/s]"
      ]
     },
     "metadata": {},
     "output_type": "display_data"
    },
    {
     "data": {
      "application/vnd.jupyter.widget-view+json": {
       "model_id": "75750a63f65141949c12b43faea2b882",
       "version_major": 2,
       "version_minor": 0
      },
      "text/plain": [
       "Saving the dataset (0/1 shards):   0%|          | 0/1 [00:00<?, ? examples/s]"
      ]
     },
     "metadata": {},
     "output_type": "display_data"
    },
    {
     "name": "stderr",
     "output_type": "stream",
     "text": [
      "0batch [00:00, ?batch/s]"
     ]
    },
    {
     "name": "stdout",
     "output_type": "stream",
     "text": [
      "--------------------------------\n",
      "| batch_size        | 32       |\n",
      "| bc/               |          |\n",
      "|    batch          | 0        |\n",
      "|    ent_loss       | -2e-05   |\n",
      "|    entropy        | 0.02     |\n",
      "|    epoch          | 0        |\n",
      "|    l2_loss        | 0        |\n",
      "|    l2_norm        | 252      |\n",
      "|    loss           | 0.00854  |\n",
      "|    neglogp        | 0.00856  |\n",
      "|    prob_true_act  | 0.992    |\n",
      "|    samples_so_far | 32       |\n",
      "| rollout/          |          |\n",
      "|    return_max     | 396      |\n",
      "|    return_mean    | 239      |\n",
      "|    return_min     | 161      |\n",
      "|    return_std     | 83.4     |\n",
      "--------------------------------\n"
     ]
    },
    {
     "name": "stderr",
     "output_type": "stream",
     "text": [
      "489batch [00:03, 219.52batch/s]"
     ]
    },
    {
     "name": "stdout",
     "output_type": "stream",
     "text": [
      "---------------------------------\n",
      "| batch_size        | 32        |\n",
      "| bc/               |           |\n",
      "|    batch          | 500       |\n",
      "|    ent_loss       | -5.04e-05 |\n",
      "|    entropy        | 0.0504    |\n",
      "|    epoch          | 2         |\n",
      "|    l2_loss        | 0         |\n",
      "|    l2_norm        | 265       |\n",
      "|    loss           | 0.0275    |\n",
      "|    neglogp        | 0.0275    |\n",
      "|    prob_true_act  | 0.977     |\n",
      "|    samples_so_far | 16032     |\n",
      "| rollout/          |           |\n",
      "|    return_max     | 374       |\n",
      "|    return_mean    | 235       |\n",
      "|    return_min     | 151       |\n",
      "|    return_std     | 87.8      |\n",
      "---------------------------------\n"
     ]
    },
    {
     "name": "stderr",
     "output_type": "stream",
     "text": [
      "916batch [00:05, 157.66batch/s]\n"
     ]
    },
    {
     "data": {
      "application/vnd.jupyter.widget-view+json": {
       "model_id": "fd54e47704964a44a247ec62a5b12bd2",
       "version_major": 2,
       "version_minor": 0
      },
      "text/plain": [
       "Saving the dataset (0/1 shards):   0%|          | 0/1 [00:00<?, ? examples/s]"
      ]
     },
     "metadata": {},
     "output_type": "display_data"
    },
    {
     "data": {
      "application/vnd.jupyter.widget-view+json": {
       "model_id": "b68cc82295b148498fc7ea601f12995f",
       "version_major": 2,
       "version_minor": 0
      },
      "text/plain": [
       "Saving the dataset (0/1 shards):   0%|          | 0/1 [00:00<?, ? examples/s]"
      ]
     },
     "metadata": {},
     "output_type": "display_data"
    },
    {
     "data": {
      "application/vnd.jupyter.widget-view+json": {
       "model_id": "edc336332b524514bcfad61c77019736",
       "version_major": 2,
       "version_minor": 0
      },
      "text/plain": [
       "Saving the dataset (0/1 shards):   0%|          | 0/1 [00:00<?, ? examples/s]"
      ]
     },
     "metadata": {},
     "output_type": "display_data"
    },
    {
     "name": "stderr",
     "output_type": "stream",
     "text": [
      "0batch [00:00, ?batch/s]"
     ]
    },
    {
     "name": "stdout",
     "output_type": "stream",
     "text": [
      "---------------------------------\n",
      "| batch_size        | 32        |\n",
      "| bc/               |           |\n",
      "|    batch          | 0         |\n",
      "|    ent_loss       | -1.05e-05 |\n",
      "|    entropy        | 0.0105    |\n",
      "|    epoch          | 0         |\n",
      "|    l2_loss        | 0         |\n",
      "|    l2_norm        | 273       |\n",
      "|    loss           | 0.00274   |\n",
      "|    neglogp        | 0.00275   |\n",
      "|    prob_true_act  | 0.997     |\n",
      "|    samples_so_far | 32        |\n",
      "| rollout/          |           |\n",
      "|    return_max     | 500       |\n",
      "|    return_mean    | 376       |\n",
      "|    return_min     | 164       |\n",
      "|    return_std     | 124       |\n",
      "---------------------------------\n"
     ]
    },
    {
     "name": "stderr",
     "output_type": "stream",
     "text": [
      "490batch [00:03, 222.19batch/s]"
     ]
    },
    {
     "name": "stdout",
     "output_type": "stream",
     "text": [
      "---------------------------------\n",
      "| batch_size        | 32        |\n",
      "| bc/               |           |\n",
      "|    batch          | 500       |\n",
      "|    ent_loss       | -3.19e-05 |\n",
      "|    entropy        | 0.0319    |\n",
      "|    epoch          | 2         |\n",
      "|    l2_loss        | 0         |\n",
      "|    l2_norm        | 281       |\n",
      "|    loss           | 0.0244    |\n",
      "|    neglogp        | 0.0244    |\n",
      "|    prob_true_act  | 0.982     |\n",
      "|    samples_so_far | 16032     |\n",
      "| rollout/          |           |\n",
      "|    return_max     | 338       |\n",
      "|    return_mean    | 243       |\n",
      "|    return_min     | 164       |\n",
      "|    return_std     | 72.3      |\n",
      "---------------------------------\n"
     ]
    },
    {
     "name": "stderr",
     "output_type": "stream",
     "text": [
      "1000batch [00:06, 156.78batch/s]\n"
     ]
    },
    {
     "name": "stdout",
     "output_type": "stream",
     "text": [
      "Reward after DAgger training: 281.9\n"
     ]
    }
   ],
   "source": [
    "import tempfile\n",
    "import numpy as np\n",
    "import gymnasium as gym\n",
    "from stable_baselines3.common.evaluation import evaluate_policy\n",
    "from imitation.algorithms import bc\n",
    "from imitation.algorithms.dagger import SimpleDAggerTrainer\n",
    "from imitation.util.util import make_vec_env\n",
    "\n",
    "# Initialize a random number generator\n",
    "rng = np.random.default_rng(0)\n",
    "\n",
    "# Create the environment\n",
    "env = make_vec_env(\"CartPole-v1\", n_envs=1, rng=rng)\n",
    "\n",
    "# Define a simple expert policy (use stable-baselines3 pre-trained model)\n",
    "from stable_baselines3 import PPO\n",
    "\n",
    "expert_model = PPO(\"MlpPolicy\", env, verbose=0)\n",
    "expert_model.learn(10_000)  # Train the expert policy\n",
    "\n",
    "# Define a behavioral cloning trainer\n",
    "bc_trainer = bc.BC(\n",
    "    observation_space=env.observation_space,\n",
    "    action_space=env.action_space,\n",
    "    rng=rng,\n",
    ")\n",
    "\n",
    "# Create a temporary directory for DAgger\n",
    "with tempfile.TemporaryDirectory(prefix=\"dagger_example_\") as tmpdir:\n",
    "    print(f\"Temporary directory: {tmpdir}\")\n",
    "    \n",
    "    # Create the DAgger trainer\n",
    "    dagger_trainer = SimpleDAggerTrainer(\n",
    "        venv=env,\n",
    "        scratch_dir=tmpdir,\n",
    "        expert_policy=expert_model.policy,  # Expert policy is taken from PPO\n",
    "        bc_trainer=bc_trainer,\n",
    "        rng=rng,\n",
    "    )\n",
    "    \n",
    "    # Train the DAgger model\n",
    "    dagger_trainer.train(8_000)\n",
    "\n",
    "# Evaluate the DAgger-trained policy\n",
    "reward, _ = evaluate_policy(dagger_trainer.policy, env, n_eval_episodes=10)\n",
    "print(\"Reward after DAgger training:\", reward)\n"
=======
   "execution_count": 1,
   "metadata": {},
   "outputs": [],
   "source": [
    "import numpy as np\n",
    "import matplotlib.pyplot as plt\n",
    "import gymnasium as gym\n",
    "from stable_baselines3.common.evaluation import evaluate_policy\n",
    "from imitation.algorithms.bc import BC\n",
    "from imitation.algorithms.dagger import SimpleDAggerTrainer\n",
    "from imitation.policies.serialize import load_policy\n",
    "from imitation.util.util import make_vec_env\n",
    "import tempfile"
>>>>>>> f9e210c (Sauvegarde des modifications locales)
   ]
  },
  {
   "cell_type": "code",
<<<<<<< HEAD
   "execution_count": 10,
   "metadata": {},
   "outputs": [
    {
     "data": {
      "image/png": "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",
      "text/plain": [
       "<Figure size 800x600 with 1 Axes>"
      ]
     },
     "metadata": {},
     "output_type": "display_data"
    },
    {
     "data": {
      "image/png": "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",
      "text/plain": [
       "<Figure size 800x600 with 1 Axes>"
      ]
     },
     "metadata": {},
     "output_type": "display_data"
    },
    {
     "name": "stdout",
     "output_type": "stream",
     "text": [
      "Average Reward: 271.70\n"
=======
   "execution_count": 2,
   "metadata": {},
   "outputs": [],
   "source": [
    "# Environnement et Expert\n",
    "def setup_environment(env_name=\"CartPole-v1\", expert_name=\"ppo-huggingface\", org=\"HumanCompatibleAI\"):\n",
    "    \"\"\"\n",
    "    Crée l'environnement et charge l'expert pré-entraîné.\n",
    "    \"\"\"\n",
    "    env = make_vec_env(env_name, rng=np.random.default_rng(), n_envs=1)\n",
    "    expert = load_policy(\n",
    "        expert_name,\n",
    "        organization=org,\n",
    "        env_name=env_name,\n",
    "        venv=env\n",
    "    )\n",
    "    return env, expert"
   ]
  },
  {
   "cell_type": "code",
   "execution_count": 3,
   "metadata": {},
   "outputs": [],
   "source": [
    "\n",
    "# Configuration et Entraînement de DAgger avec suivi des récompenses\n",
    "def train_with_dagger(env, expert, steps=300, eval_episodes=10, eval_intervals=30):\n",
    "    \"\"\"\n",
    "    Entraîne un agent avec l'algorithme DAgger et collecte les récompenses au fil des étapes.\n",
    "    \"\"\"\n",
    "    # Initialisation de l'entraîneur de Clonage Comportemental\n",
    "    bc_trainer = BC(\n",
    "        observation_space=env.observation_space,\n",
    "        action_space=env.action_space,\n",
    "        rng=np.random.default_rng(),\n",
    "    )\n",
    "    \n",
    "    rewards_over_time = []  # Stockage des récompenses moyennes\n",
    "\n",
    "    with tempfile.TemporaryDirectory(prefix=\"dagger_training_\") as tmpdir:\n",
    "        print(f\"Répertoire temporaire pour l'entraînement : {tmpdir}\")\n",
    "        \n",
    "        # Initialisation de l'entraîneur DAgger\n",
    "        dagger_trainer = SimpleDAggerTrainer(\n",
    "            venv=env,\n",
    "            scratch_dir=tmpdir,\n",
    "            expert_policy=expert,\n",
    "            bc_trainer=bc_trainer,\n",
    "            rng=np.random.default_rng(),\n",
    "        )\n",
    "        \n",
    "        for step in range(0, steps + 1, eval_intervals):\n",
    "            # Entraîner sur un intervalle\n",
    "            dagger_trainer.train(eval_intervals)\n",
    "\n",
    "            # Évaluer la politique entraînée\n",
    "            rewards, _ = evaluate_policy(dagger_trainer.policy, env, n_eval_episodes=eval_episodes, return_episode_rewards=True)\n",
    "            mean_reward = np.mean(rewards)\n",
    "            print(f\"Étape {step}/{steps}, Récompense moyenne : {mean_reward}\")\n",
    "            rewards_over_time.append(mean_reward)\n",
    "\n",
    "    return dagger_trainer, rewards_over_time\n"
   ]
  },
  {
   "cell_type": "code",
   "execution_count": 4,
   "metadata": {},
   "outputs": [],
   "source": [
    "\n",
    "# Tracé des récompenses\n",
    "def plot_rewards(rewards, steps, eval_intervals):\n",
    "    \"\"\"\n",
    "    Trace la courbe de récompense en fonction des étapes.\n",
    "    \"\"\"\n",
    "    plt.figure(figsize=(10, 6))\n",
    "    x = np.arange(0, steps + 1, eval_intervals)\n",
    "    plt.plot(x[:len(rewards)], rewards, marker='o')\n",
    "    plt.title(\"Évolution de la récompense moyenne pendant l'entraînement DAgger\")\n",
    "    plt.xlabel(\"Étapes d'entraînement\")\n",
    "    plt.ylabel(\"Récompense moyenne\")\n",
    "    plt.grid()\n",
    "    plt.show()"
   ]
  },
  {
   "cell_type": "code",
   "execution_count": 5,
   "metadata": {},
   "outputs": [
    {
     "name": "stdout",
     "output_type": "stream",
     "text": [
      "Initialisation de l'environnement et chargement de l'expert...\n"
     ]
    },
    {
     "name": "stderr",
     "output_type": "stream",
     "text": [
      "C:\\Users\\Sorbonne\\AppData\\Local\\Packages\\PythonSoftwareFoundation.Python.3.9_qbz5n2kfra8p0\\LocalCache\\local-packages\\Python39\\site-packages\\stable_baselines3\\common\\save_util.py:167: UserWarning: Could not deserialize object action_space. Consider using `custom_objects` argument to replace this object.\n",
      "Exception: __generator_ctor() takes from 0 to 1 positional arguments but 2 were given\n",
      "  warnings.warn(\n"
     ]
    },
    {
     "ename": "KeyError",
     "evalue": "\"The observation_space and action_space were not given, can't verify new environments\"",
     "output_type": "error",
     "traceback": [
      "\u001b[1;31m---------------------------------------------------------------------------\u001b[0m",
      "\u001b[1;31mKeyError\u001b[0m                                  Traceback (most recent call last)",
      "Cell \u001b[1;32mIn[5], line 9\u001b[0m\n\u001b[0;32m      7\u001b[0m \u001b[38;5;66;03m# Initialisation de l'environnement et de l'expert\u001b[39;00m\n\u001b[0;32m      8\u001b[0m \u001b[38;5;28mprint\u001b[39m(\u001b[38;5;124m\"\u001b[39m\u001b[38;5;124mInitialisation de l\u001b[39m\u001b[38;5;124m'\u001b[39m\u001b[38;5;124menvironnement et chargement de l\u001b[39m\u001b[38;5;124m'\u001b[39m\u001b[38;5;124mexpert...\u001b[39m\u001b[38;5;124m\"\u001b[39m)\n\u001b[1;32m----> 9\u001b[0m env, expert \u001b[38;5;241m=\u001b[39m \u001b[43msetup_environment\u001b[49m\u001b[43m(\u001b[49m\u001b[43menv_name\u001b[49m\u001b[43m,\u001b[49m\u001b[43m \u001b[49m\u001b[43mexpert_name\u001b[49m\u001b[43m,\u001b[49m\u001b[43m \u001b[49m\u001b[43morganization\u001b[49m\u001b[43m)\u001b[49m\n\u001b[0;32m     11\u001b[0m \u001b[38;5;66;03m# Entraînement avec DAgger\u001b[39;00m\n\u001b[0;32m     12\u001b[0m \u001b[38;5;28mprint\u001b[39m(\u001b[38;5;124m\"\u001b[39m\u001b[38;5;124mEntraînement avec DAgger en cours...\u001b[39m\u001b[38;5;124m\"\u001b[39m)\n",
      "Cell \u001b[1;32mIn[2], line 7\u001b[0m, in \u001b[0;36msetup_environment\u001b[1;34m(env_name, expert_name, org)\u001b[0m\n\u001b[0;32m      3\u001b[0m \u001b[38;5;250m\u001b[39m\u001b[38;5;124;03m\"\"\"\u001b[39;00m\n\u001b[0;32m      4\u001b[0m \u001b[38;5;124;03mCrée l'environnement et charge l'expert pré-entraîné.\u001b[39;00m\n\u001b[0;32m      5\u001b[0m \u001b[38;5;124;03m\"\"\"\u001b[39;00m\n\u001b[0;32m      6\u001b[0m env \u001b[38;5;241m=\u001b[39m make_vec_env(env_name, rng\u001b[38;5;241m=\u001b[39mnp\u001b[38;5;241m.\u001b[39mrandom\u001b[38;5;241m.\u001b[39mdefault_rng(), n_envs\u001b[38;5;241m=\u001b[39m\u001b[38;5;241m1\u001b[39m)\n\u001b[1;32m----> 7\u001b[0m expert \u001b[38;5;241m=\u001b[39m \u001b[43mload_policy\u001b[49m\u001b[43m(\u001b[49m\n\u001b[0;32m      8\u001b[0m \u001b[43m    \u001b[49m\u001b[43mexpert_name\u001b[49m\u001b[43m,\u001b[49m\n\u001b[0;32m      9\u001b[0m \u001b[43m    \u001b[49m\u001b[43morganization\u001b[49m\u001b[38;5;241;43m=\u001b[39;49m\u001b[43morg\u001b[49m\u001b[43m,\u001b[49m\n\u001b[0;32m     10\u001b[0m \u001b[43m    \u001b[49m\u001b[43menv_name\u001b[49m\u001b[38;5;241;43m=\u001b[39;49m\u001b[43menv_name\u001b[49m\u001b[43m,\u001b[49m\n\u001b[0;32m     11\u001b[0m \u001b[43m    \u001b[49m\u001b[43mvenv\u001b[49m\u001b[38;5;241;43m=\u001b[39;49m\u001b[43menv\u001b[49m\n\u001b[0;32m     12\u001b[0m \u001b[43m\u001b[49m\u001b[43m)\u001b[49m\n\u001b[0;32m     13\u001b[0m \u001b[38;5;28;01mreturn\u001b[39;00m env, expert\n",
      "File \u001b[1;32m~\\AppData\\Local\\Packages\\PythonSoftwareFoundation.Python.3.9_qbz5n2kfra8p0\\LocalCache\\local-packages\\Python39\\site-packages\\imitation\\policies\\serialize.py:179\u001b[0m, in \u001b[0;36mload_policy\u001b[1;34m(policy_type, venv, **kwargs)\u001b[0m\n\u001b[0;32m    160\u001b[0m \u001b[38;5;250m\u001b[39m\u001b[38;5;124;03m\"\"\"Load serialized policy.\u001b[39;00m\n\u001b[0;32m    161\u001b[0m \n\u001b[0;32m    162\u001b[0m \u001b[38;5;124;03mNote on the kwargs:\u001b[39;00m\n\u001b[1;32m   (...)\u001b[0m\n\u001b[0;32m    176\u001b[0m \u001b[38;5;124;03m    The deserialized policy.\u001b[39;00m\n\u001b[0;32m    177\u001b[0m \u001b[38;5;124;03m\"\"\"\u001b[39;00m\n\u001b[0;32m    178\u001b[0m agent_loader \u001b[38;5;241m=\u001b[39m policy_registry\u001b[38;5;241m.\u001b[39mget(policy_type)\n\u001b[1;32m--> 179\u001b[0m \u001b[38;5;28;01mreturn\u001b[39;00m agent_loader(venv, \u001b[38;5;241m*\u001b[39m\u001b[38;5;241m*\u001b[39mkwargs)\n",
      "File \u001b[1;32m~\\AppData\\Local\\Packages\\PythonSoftwareFoundation.Python.3.9_qbz5n2kfra8p0\\LocalCache\\local-packages\\Python39\\site-packages\\imitation\\policies\\serialize.py:117\u001b[0m, in \u001b[0;36m_load_stable_baselines_from_huggingface.<locals>.f\u001b[1;34m(venv, env_name, organization)\u001b[0m\n\u001b[0;32m    115\u001b[0m repo_id \u001b[38;5;241m=\u001b[39m hfsb3\u001b[38;5;241m.\u001b[39mModelRepoId(organization, model_name)\n\u001b[0;32m    116\u001b[0m filename \u001b[38;5;241m=\u001b[39m hfsb3\u001b[38;5;241m.\u001b[39mload_from_hub(repo_id, model_name\u001b[38;5;241m.\u001b[39mfilename)\n\u001b[1;32m--> 117\u001b[0m model \u001b[38;5;241m=\u001b[39m \u001b[43mload_stable_baselines_model\u001b[49m\u001b[43m(\u001b[49m\u001b[38;5;28;43mcls\u001b[39;49m\u001b[43m,\u001b[49m\u001b[43m \u001b[49m\u001b[43mfilename\u001b[49m\u001b[43m,\u001b[49m\u001b[43m \u001b[49m\u001b[43mvenv\u001b[49m\u001b[43m)\u001b[49m\n\u001b[0;32m    118\u001b[0m \u001b[38;5;28;01mreturn\u001b[39;00m \u001b[38;5;28mgetattr\u001b[39m(model, \u001b[38;5;124m\"\u001b[39m\u001b[38;5;124mpolicy\u001b[39m\u001b[38;5;124m\"\u001b[39m)\n",
      "File \u001b[1;32m~\\AppData\\Local\\Packages\\PythonSoftwareFoundation.Python.3.9_qbz5n2kfra8p0\\LocalCache\\local-packages\\Python39\\site-packages\\imitation\\policies\\serialize.py:71\u001b[0m, in \u001b[0;36mload_stable_baselines_model\u001b[1;34m(cls, path, venv, **kwargs)\u001b[0m\n\u001b[0;32m     65\u001b[0m \u001b[38;5;28;01mif\u001b[39;00m vec_normalize_path\u001b[38;5;241m.\u001b[39mexists():\n\u001b[0;32m     66\u001b[0m     \u001b[38;5;28;01mraise\u001b[39;00m \u001b[38;5;167;01mFileExistsError\u001b[39;00m(\n\u001b[0;32m     67\u001b[0m         \u001b[38;5;124m\"\u001b[39m\u001b[38;5;124mOutdated policy format: we do not support restoring normalization \u001b[39m\u001b[38;5;124m\"\u001b[39m\n\u001b[0;32m     68\u001b[0m         \u001b[38;5;124mf\u001b[39m\u001b[38;5;124m\"\u001b[39m\u001b[38;5;124mstatistics from \u001b[39m\u001b[38;5;124m'\u001b[39m\u001b[38;5;132;01m{\u001b[39;00mvec_normalize_path\u001b[38;5;132;01m}\u001b[39;00m\u001b[38;5;124m'\u001b[39m\u001b[38;5;124m\"\u001b[39m,\n\u001b[0;32m     69\u001b[0m     )\n\u001b[1;32m---> 71\u001b[0m \u001b[38;5;28;01mreturn\u001b[39;00m \u001b[38;5;28mcls\u001b[39m\u001b[38;5;241m.\u001b[39mload(path_obj, env\u001b[38;5;241m=\u001b[39mvenv, \u001b[38;5;241m*\u001b[39m\u001b[38;5;241m*\u001b[39mkwargs)\n",
      "File \u001b[1;32m~\\AppData\\Local\\Packages\\PythonSoftwareFoundation.Python.3.9_qbz5n2kfra8p0\\LocalCache\\local-packages\\Python39\\site-packages\\stable_baselines3\\common\\base_class.py:706\u001b[0m, in \u001b[0;36mBaseAlgorithm.load\u001b[1;34m(cls, path, env, device, custom_objects, print_system_info, force_reset, **kwargs)\u001b[0m\n\u001b[0;32m    700\u001b[0m     \u001b[38;5;28;01mraise\u001b[39;00m \u001b[38;5;167;01mValueError\u001b[39;00m(\n\u001b[0;32m    701\u001b[0m         \u001b[38;5;124mf\u001b[39m\u001b[38;5;124m\"\u001b[39m\u001b[38;5;124mThe specified policy kwargs do not equal the stored policy kwargs.\u001b[39m\u001b[38;5;124m\"\u001b[39m\n\u001b[0;32m    702\u001b[0m         \u001b[38;5;124mf\u001b[39m\u001b[38;5;124m\"\u001b[39m\u001b[38;5;124mStored kwargs: \u001b[39m\u001b[38;5;132;01m{\u001b[39;00mdata[\u001b[38;5;124m'\u001b[39m\u001b[38;5;124mpolicy_kwargs\u001b[39m\u001b[38;5;124m'\u001b[39m]\u001b[38;5;132;01m}\u001b[39;00m\u001b[38;5;124m, specified kwargs: \u001b[39m\u001b[38;5;132;01m{\u001b[39;00mkwargs[\u001b[38;5;124m'\u001b[39m\u001b[38;5;124mpolicy_kwargs\u001b[39m\u001b[38;5;124m'\u001b[39m]\u001b[38;5;132;01m}\u001b[39;00m\u001b[38;5;124m\"\u001b[39m\n\u001b[0;32m    703\u001b[0m     )\n\u001b[0;32m    705\u001b[0m \u001b[38;5;28;01mif\u001b[39;00m \u001b[38;5;124m\"\u001b[39m\u001b[38;5;124mobservation_space\u001b[39m\u001b[38;5;124m\"\u001b[39m \u001b[38;5;129;01mnot\u001b[39;00m \u001b[38;5;129;01min\u001b[39;00m data \u001b[38;5;129;01mor\u001b[39;00m \u001b[38;5;124m\"\u001b[39m\u001b[38;5;124maction_space\u001b[39m\u001b[38;5;124m\"\u001b[39m \u001b[38;5;129;01mnot\u001b[39;00m \u001b[38;5;129;01min\u001b[39;00m data:\n\u001b[1;32m--> 706\u001b[0m     \u001b[38;5;28;01mraise\u001b[39;00m \u001b[38;5;167;01mKeyError\u001b[39;00m(\u001b[38;5;124m\"\u001b[39m\u001b[38;5;124mThe observation_space and action_space were not given, can\u001b[39m\u001b[38;5;124m'\u001b[39m\u001b[38;5;124mt verify new environments\u001b[39m\u001b[38;5;124m\"\u001b[39m)\n\u001b[0;32m    708\u001b[0m \u001b[38;5;66;03m# Gym -> Gymnasium space conversion\u001b[39;00m\n\u001b[0;32m    709\u001b[0m \u001b[38;5;28;01mfor\u001b[39;00m key \u001b[38;5;129;01min\u001b[39;00m {\u001b[38;5;124m\"\u001b[39m\u001b[38;5;124mobservation_space\u001b[39m\u001b[38;5;124m\"\u001b[39m, \u001b[38;5;124m\"\u001b[39m\u001b[38;5;124maction_space\u001b[39m\u001b[38;5;124m\"\u001b[39m}:\n",
      "\u001b[1;31mKeyError\u001b[0m: \"The observation_space and action_space were not given, can't verify new environments\""
>>>>>>> f9e210c (Sauvegarde des modifications locales)
     ]
    }
   ],
   "source": [
<<<<<<< HEAD
    "import matplotlib.pyplot as plt\n",
    "import numpy as np\n",
    "\n",
    "# Function to visualize policy performance over multiple episodes\n",
    "def plot_policy_trajectories(policy, env, title=\"Policy Trajectories\", num_episodes=5):\n",
    "    trajectories = []\n",
    "    for _ in range(num_episodes):\n",
    "        obs = env.reset()\n",
    "        done = False\n",
    "        trajectory = []\n",
    "        while not done:\n",
    "            # Predict the action using the trained policy\n",
    "            action, _ = policy.predict(obs, deterministic=True)\n",
    "            \n",
    "            # Append the current position (Cart Position, Cart Velocity)\n",
    "            env_state = env.get_attr(\"state\")[0]  # Access the state of the underlying environment\n",
    "            trajectory.append(env_state)\n",
    "            \n",
    "            # Step the environment\n",
    "            obs, _, done, _ = env.step(action)\n",
    "        trajectories.append(trajectory)\n",
    "\n",
    "    # Plot the trajectories\n",
    "    plt.figure(figsize=(8, 6))\n",
    "    for trajectory in trajectories:\n",
    "        trajectory = np.array(trajectory)\n",
    "        plt.plot(trajectory[:, 0], trajectory[:, 1], marker='o', label=\"Trajectory\")\n",
    "    plt.title(title)\n",
    "    plt.xlabel(\"Cart Position\")\n",
    "    plt.ylabel(\"Cart Velocity\")\n",
    "    plt.legend()\n",
    "    plt.grid()\n",
    "    plt.show()\n",
    "\n",
    "# Function to evaluate and plot rewards\n",
    "def plot_rewards(policy, env, title=\"Reward Evaluation\", num_episodes=10):\n",
    "    rewards = []\n",
    "    for _ in range(num_episodes):\n",
    "        obs = env.reset()\n",
    "        done = False\n",
    "        episode_reward = 0\n",
    "        while not done:\n",
    "            # Predict the action using the trained policy\n",
    "            action, _ = policy.predict(obs, deterministic=True)\n",
    "            \n",
    "            # Step the environment and accumulate reward\n",
    "            obs, reward, done, _ = env.step(action)\n",
    "            episode_reward += reward\n",
    "        rewards.append(episode_reward)\n",
    "\n",
    "    # Plot rewards\n",
    "    plt.figure(figsize=(8, 6))\n",
    "    plt.plot(rewards, marker='o')\n",
    "    plt.title(title)\n",
    "    plt.xlabel(\"Episode\")\n",
    "    plt.ylabel(\"Total Reward\")\n",
    "    plt.grid()\n",
    "    plt.show()\n",
    "    print(f\"Average Reward: {np.mean(rewards):.2f}\")\n",
    "\n",
    "# Plot the DAgger policy trajectories\n",
    "plot_policy_trajectories(dagger_trainer.policy, env, title=\"DAgger Policy Trajectories\")\n",
    "\n",
    "# Plot the rewards achieved by the DAgger-trained policy\n",
    "plot_rewards(dagger_trainer.policy, env, title=\"DAgger Policy Reward Evaluation\")\n"
=======
    "# Programme Principal\n",
    "if __name__ == \"__main__\":\n",
    "    env_name = \"seals:seals/MountainCar-v0\"\n",
    "    expert_name = \"ppo-huggingface\"\n",
    "    organization = \"HumanCompatibleAI\"\n",
    "\n",
    "    # Initialisation de l'environnement et de l'expert\n",
    "    print(\"Initialisation de l'environnement et chargement de l'expert...\")\n",
    "    env, expert = setup_environment(env_name, expert_name, organization)\n",
    "    \n",
    "    # Entraînement avec DAgger\n",
    "    print(\"Entraînement avec DAgger en cours...\")\n",
    "    dagger_trainer, rewards_over_time = train_with_dagger(env, expert, steps=300, eval_intervals=10)\n",
    "    \n",
    "    # Tracé de la récompense\n",
    "    print(\"Tracé de la récompense...\")\n",
    "    plot_rewards(rewards_over_time, steps=300, eval_intervals=10)\n",
    "\n",
    "    # Évaluation de la politique entraînée\n",
    "    print(\"Évaluation de la politique entraînée...\")\n",
    "    average_reward = evaluate_trained_policy(dagger_trainer.policy, env)\n",
    "    print(f\"Récompense moyenne finale : {average_reward}\")\n"
   ]
  },
  {
   "cell_type": "code",
   "execution_count": null,
   "metadata": {},
   "outputs": [
    {
     "name": "stdout",
     "output_type": "stream",
     "text": [
      "Name: stable_baselines3\n",
      "Version: 2.3.2\n",
      "Summary: Pytorch version of Stable Baselines, implementations of reinforcement learning algorithms.\n",
      "Home-page: https://github.com/DLR-RM/stable-baselines3\n",
      "Author: Antonin Raffin\n",
      "Author-email: antonin.raffin@dlr.de\n",
      "License: MIT\n",
      "Location: c:\\users\\sorbonne\\appdata\\local\\packages\\pythonsoftwarefoundation.python.3.9_qbz5n2kfra8p0\\localcache\\local-packages\\python39\\site-packages\n",
      "Requires: cloudpickle, gymnasium, matplotlib, numpy, pandas, torch\n",
      "Required-by: imitation\n",
      "---\n",
      "Name: gymnasium\n",
      "Version: 0.29.1\n",
      "Summary: A standard API for reinforcement learning and a diverse set of reference environments (formerly Gym).\n",
      "Home-page: https://farama.org\n",
      "Author: \n",
      "Author-email: Farama Foundation <contact@farama.org>\n",
      "License: MIT License\n",
      "Location: c:\\users\\sorbonne\\appdata\\local\\packages\\pythonsoftwarefoundation.python.3.9_qbz5n2kfra8p0\\localcache\\local-packages\\python39\\site-packages\n",
      "Requires: cloudpickle, farama-notifications, importlib-metadata, numpy, typing-extensions\n",
      "Required-by: bbrl, bbrl_gymnasium, imitation, seals, stable_baselines3\n",
      "---\n",
      "Name: imitation\n",
      "Version: 1.0.0\n",
      "Summary: Implementation of modern reward and imitation learning algorithms.\n",
      "Home-page: https://github.com/HumanCompatibleAI/imitation\n",
      "Author: Center for Human-Compatible AI and Google\n",
      "Author-email: \n",
      "License: MIT\n",
      "Location: c:\\users\\sorbonne\\appdata\\local\\packages\\pythonsoftwarefoundation.python.3.9_qbz5n2kfra8p0\\localcache\\local-packages\\python39\\site-packages\n",
      "Requires: datasets, gymnasium, huggingface-sb3, matplotlib, numpy, optuna, rich, sacred, scikit-learn, seals, stable-baselines3, tensorboard, torch, tqdm\n",
      "Required-by: \n"
     ]
    }
   ],
   "source": [
    "!pip show stable-baselines3 gymnasium imitation\n"
   ]
  },
  {
   "cell_type": "code",
   "execution_count": null,
   "metadata": {},
   "outputs": [
    {
     "name": "stdout",
     "output_type": "stream",
     "text": [
      "Collecting stable-baselines3==2.4.0\n",
      "  Using cached stable_baselines3-2.4.0-py3-none-any.whl.metadata (4.5 kB)\n",
      "Requirement already satisfied: gymnasium==0.29.1 in c:\\users\\sorbonne\\appdata\\local\\packages\\pythonsoftwarefoundation.python.3.9_qbz5n2kfra8p0\\localcache\\local-packages\\python39\\site-packages (0.29.1)\n",
      "Requirement already satisfied: imitation==1.0.0 in c:\\users\\sorbonne\\appdata\\local\\packages\\pythonsoftwarefoundation.python.3.9_qbz5n2kfra8p0\\localcache\\local-packages\\python39\\site-packages (1.0.0)\n",
      "Requirement already satisfied: numpy<2.0,>=1.20 in c:\\users\\sorbonne\\appdata\\local\\packages\\pythonsoftwarefoundation.python.3.9_qbz5n2kfra8p0\\localcache\\local-packages\\python39\\site-packages (from stable-baselines3==2.4.0) (1.23.0)\n",
      "Requirement already satisfied: torch>=1.13 in c:\\users\\sorbonne\\appdata\\local\\packages\\pythonsoftwarefoundation.python.3.9_qbz5n2kfra8p0\\localcache\\local-packages\\python39\\site-packages (from stable-baselines3==2.4.0) (2.5.1)\n",
      "Requirement already satisfied: cloudpickle in c:\\users\\sorbonne\\appdata\\local\\packages\\pythonsoftwarefoundation.python.3.9_qbz5n2kfra8p0\\localcache\\local-packages\\python39\\site-packages (from stable-baselines3==2.4.0) (3.1.0)\n",
      "Requirement already satisfied: pandas in c:\\users\\sorbonne\\appdata\\local\\packages\\pythonsoftwarefoundation.python.3.9_qbz5n2kfra8p0\\localcache\\local-packages\\python39\\site-packages (from stable-baselines3==2.4.0) (2.2.3)\n",
      "Requirement already satisfied: matplotlib in c:\\users\\sorbonne\\appdata\\local\\packages\\pythonsoftwarefoundation.python.3.9_qbz5n2kfra8p0\\localcache\\local-packages\\python39\\site-packages (from stable-baselines3==2.4.0) (3.7.1)\n",
      "Requirement already satisfied: typing-extensions>=4.3.0 in c:\\users\\sorbonne\\appdata\\local\\packages\\pythonsoftwarefoundation.python.3.9_qbz5n2kfra8p0\\localcache\\local-packages\\python39\\site-packages (from gymnasium==0.29.1) (4.12.2)\n",
      "Requirement already satisfied: farama-notifications>=0.0.1 in c:\\users\\sorbonne\\appdata\\local\\packages\\pythonsoftwarefoundation.python.3.9_qbz5n2kfra8p0\\localcache\\local-packages\\python39\\site-packages (from gymnasium==0.29.1) (0.0.4)\n",
      "Requirement already satisfied: importlib-metadata>=4.8.0 in c:\\users\\sorbonne\\appdata\\local\\packages\\pythonsoftwarefoundation.python.3.9_qbz5n2kfra8p0\\localcache\\local-packages\\python39\\site-packages (from gymnasium==0.29.1) (8.5.0)\n",
      "Requirement already satisfied: tqdm in c:\\users\\sorbonne\\appdata\\local\\packages\\pythonsoftwarefoundation.python.3.9_qbz5n2kfra8p0\\localcache\\local-packages\\python39\\site-packages (from imitation==1.0.0) (4.66.6)\n",
      "Requirement already satisfied: rich in c:\\users\\sorbonne\\appdata\\local\\packages\\pythonsoftwarefoundation.python.3.9_qbz5n2kfra8p0\\localcache\\local-packages\\python39\\site-packages (from imitation==1.0.0) (13.9.3)\n",
      "Requirement already satisfied: scikit-learn>=0.21.2 in c:\\users\\sorbonne\\appdata\\local\\packages\\pythonsoftwarefoundation.python.3.9_qbz5n2kfra8p0\\localcache\\local-packages\\python39\\site-packages (from imitation==1.0.0) (1.5.2)\n",
      "Requirement already satisfied: seals~=0.2.1 in c:\\users\\sorbonne\\appdata\\local\\packages\\pythonsoftwarefoundation.python.3.9_qbz5n2kfra8p0\\localcache\\local-packages\\python39\\site-packages (from imitation==1.0.0) (0.2.1)\n",
      "Requirement already satisfied: sacred>=0.8.4 in c:\\users\\sorbonne\\appdata\\local\\packages\\pythonsoftwarefoundation.python.3.9_qbz5n2kfra8p0\\localcache\\local-packages\\python39\\site-packages (from imitation==1.0.0) (0.8.6)\n",
      "Requirement already satisfied: tensorboard>=1.14 in c:\\users\\sorbonne\\appdata\\local\\packages\\pythonsoftwarefoundation.python.3.9_qbz5n2kfra8p0\\localcache\\local-packages\\python39\\site-packages (from imitation==1.0.0) (2.12.3)\n",
      "Requirement already satisfied: huggingface-sb3~=3.0 in c:\\users\\sorbonne\\appdata\\local\\packages\\pythonsoftwarefoundation.python.3.9_qbz5n2kfra8p0\\localcache\\local-packages\\python39\\site-packages (from imitation==1.0.0) (3.0)\n",
      "Requirement already satisfied: optuna>=3.0.1 in c:\\users\\sorbonne\\appdata\\local\\packages\\pythonsoftwarefoundation.python.3.9_qbz5n2kfra8p0\\localcache\\local-packages\\python39\\site-packages (from imitation==1.0.0) (4.0.0)\n",
      "Requirement already satisfied: datasets>=2.8.0 in c:\\users\\sorbonne\\appdata\\local\\packages\\pythonsoftwarefoundation.python.3.9_qbz5n2kfra8p0\\localcache\\local-packages\\python39\\site-packages (from imitation==1.0.0) (3.1.0)\n",
      "Requirement already satisfied: filelock in c:\\users\\sorbonne\\appdata\\local\\packages\\pythonsoftwarefoundation.python.3.9_qbz5n2kfra8p0\\localcache\\local-packages\\python39\\site-packages (from datasets>=2.8.0->imitation==1.0.0) (3.16.1)\n",
      "Requirement already satisfied: pyarrow>=15.0.0 in c:\\users\\sorbonne\\appdata\\local\\packages\\pythonsoftwarefoundation.python.3.9_qbz5n2kfra8p0\\localcache\\local-packages\\python39\\site-packages (from datasets>=2.8.0->imitation==1.0.0) (18.0.0)\n",
      "Requirement already satisfied: dill<0.3.9,>=0.3.0 in c:\\users\\sorbonne\\appdata\\local\\packages\\pythonsoftwarefoundation.python.3.9_qbz5n2kfra8p0\\localcache\\local-packages\\python39\\site-packages (from datasets>=2.8.0->imitation==1.0.0) (0.3.8)\n",
      "Requirement already satisfied: requests>=2.32.2 in c:\\users\\sorbonne\\appdata\\local\\packages\\pythonsoftwarefoundation.python.3.9_qbz5n2kfra8p0\\localcache\\local-packages\\python39\\site-packages (from datasets>=2.8.0->imitation==1.0.0) (2.32.3)\n",
      "Requirement already satisfied: xxhash in c:\\users\\sorbonne\\appdata\\local\\packages\\pythonsoftwarefoundation.python.3.9_qbz5n2kfra8p0\\localcache\\local-packages\\python39\\site-packages (from datasets>=2.8.0->imitation==1.0.0) (3.5.0)\n",
      "Requirement already satisfied: multiprocess<0.70.17 in c:\\users\\sorbonne\\appdata\\local\\packages\\pythonsoftwarefoundation.python.3.9_qbz5n2kfra8p0\\localcache\\local-packages\\python39\\site-packages (from datasets>=2.8.0->imitation==1.0.0) (0.70.16)\n",
      "Requirement already satisfied: fsspec<=2024.9.0,>=2023.1.0 in c:\\users\\sorbonne\\appdata\\local\\packages\\pythonsoftwarefoundation.python.3.9_qbz5n2kfra8p0\\localcache\\local-packages\\python39\\site-packages (from fsspec[http]<=2024.9.0,>=2023.1.0->datasets>=2.8.0->imitation==1.0.0) (2024.9.0)\n",
      "Requirement already satisfied: aiohttp in c:\\users\\sorbonne\\appdata\\local\\packages\\pythonsoftwarefoundation.python.3.9_qbz5n2kfra8p0\\localcache\\local-packages\\python39\\site-packages (from datasets>=2.8.0->imitation==1.0.0) (3.10.10)\n",
      "Requirement already satisfied: huggingface-hub>=0.23.0 in c:\\users\\sorbonne\\appdata\\local\\packages\\pythonsoftwarefoundation.python.3.9_qbz5n2kfra8p0\\localcache\\local-packages\\python39\\site-packages (from datasets>=2.8.0->imitation==1.0.0) (0.26.2)\n",
      "Requirement already satisfied: packaging in c:\\users\\sorbonne\\appdata\\local\\packages\\pythonsoftwarefoundation.python.3.9_qbz5n2kfra8p0\\localcache\\local-packages\\python39\\site-packages (from datasets>=2.8.0->imitation==1.0.0) (24.1)\n",
      "Requirement already satisfied: pyyaml>=5.1 in c:\\users\\sorbonne\\appdata\\local\\packages\\pythonsoftwarefoundation.python.3.9_qbz5n2kfra8p0\\localcache\\local-packages\\python39\\site-packages (from datasets>=2.8.0->imitation==1.0.0) (6.0.2)\n",
      "Requirement already satisfied: pygame>=2.1.3 in c:\\users\\sorbonne\\appdata\\local\\packages\\pythonsoftwarefoundation.python.3.9_qbz5n2kfra8p0\\localcache\\local-packages\\python39\\site-packages (from gymnasium[classic-control]~=0.29->imitation==1.0.0) (2.6.1)\n",
      "Requirement already satisfied: wasabi in c:\\users\\sorbonne\\appdata\\local\\packages\\pythonsoftwarefoundation.python.3.9_qbz5n2kfra8p0\\localcache\\local-packages\\python39\\site-packages (from huggingface-sb3~=3.0->imitation==1.0.0) (1.1.3)\n",
      "Requirement already satisfied: zipp>=3.20 in c:\\users\\sorbonne\\appdata\\local\\packages\\pythonsoftwarefoundation.python.3.9_qbz5n2kfra8p0\\localcache\\local-packages\\python39\\site-packages (from importlib-metadata>=4.8.0->gymnasium==0.29.1) (3.20.2)\n",
      "Requirement already satisfied: alembic>=1.5.0 in c:\\users\\sorbonne\\appdata\\local\\packages\\pythonsoftwarefoundation.python.3.9_qbz5n2kfra8p0\\localcache\\local-packages\\python39\\site-packages (from optuna>=3.0.1->imitation==1.0.0) (1.13.3)\n",
      "Requirement already satisfied: colorlog in c:\\users\\sorbonne\\appdata\\local\\packages\\pythonsoftwarefoundation.python.3.9_qbz5n2kfra8p0\\localcache\\local-packages\\python39\\site-packages (from optuna>=3.0.1->imitation==1.0.0) (6.9.0)\n",
      "Requirement already satisfied: sqlalchemy>=1.3.0 in c:\\users\\sorbonne\\appdata\\local\\packages\\pythonsoftwarefoundation.python.3.9_qbz5n2kfra8p0\\localcache\\local-packages\\python39\\site-packages (from optuna>=3.0.1->imitation==1.0.0) (2.0.36)\n",
      "Requirement already satisfied: docopt-ng<1.0,>=0.9 in c:\\users\\sorbonne\\appdata\\local\\packages\\pythonsoftwarefoundation.python.3.9_qbz5n2kfra8p0\\localcache\\local-packages\\python39\\site-packages (from sacred>=0.8.4->imitation==1.0.0) (0.9.0)\n",
      "Requirement already satisfied: jsonpickle>=2.2.0 in c:\\users\\sorbonne\\appdata\\local\\packages\\pythonsoftwarefoundation.python.3.9_qbz5n2kfra8p0\\localcache\\local-packages\\python39\\site-packages (from sacred>=0.8.4->imitation==1.0.0) (3.3.0)\n",
      "Requirement already satisfied: munch<5.0,>=2.5 in c:\\users\\sorbonne\\appdata\\local\\packages\\pythonsoftwarefoundation.python.3.9_qbz5n2kfra8p0\\localcache\\local-packages\\python39\\site-packages (from sacred>=0.8.4->imitation==1.0.0) (4.0.0)\n",
      "Requirement already satisfied: wrapt<2.0,>=1.0 in c:\\users\\sorbonne\\appdata\\local\\packages\\pythonsoftwarefoundation.python.3.9_qbz5n2kfra8p0\\localcache\\local-packages\\python39\\site-packages (from sacred>=0.8.4->imitation==1.0.0) (1.14.1)\n",
      "Requirement already satisfied: py-cpuinfo>=4.0 in c:\\users\\sorbonne\\appdata\\local\\packages\\pythonsoftwarefoundation.python.3.9_qbz5n2kfra8p0\\localcache\\local-packages\\python39\\site-packages (from sacred>=0.8.4->imitation==1.0.0) (9.0.0)\n",
      "Requirement already satisfied: colorama>=0.4 in c:\\users\\sorbonne\\appdata\\local\\packages\\pythonsoftwarefoundation.python.3.9_qbz5n2kfra8p0\\localcache\\local-packages\\python39\\site-packages (from sacred>=0.8.4->imitation==1.0.0) (0.4.6)\n",
      "Requirement already satisfied: GitPython in c:\\users\\sorbonne\\appdata\\local\\packages\\pythonsoftwarefoundation.python.3.9_qbz5n2kfra8p0\\localcache\\local-packages\\python39\\site-packages (from sacred>=0.8.4->imitation==1.0.0) (3.1.43)\n",
      "Requirement already satisfied: scipy>=1.6.0 in c:\\users\\sorbonne\\appdata\\local\\packages\\pythonsoftwarefoundation.python.3.9_qbz5n2kfra8p0\\localcache\\local-packages\\python39\\site-packages (from scikit-learn>=0.21.2->imitation==1.0.0) (1.13.1)\n",
      "Requirement already satisfied: joblib>=1.2.0 in c:\\users\\sorbonne\\appdata\\local\\packages\\pythonsoftwarefoundation.python.3.9_qbz5n2kfra8p0\\localcache\\local-packages\\python39\\site-packages (from scikit-learn>=0.21.2->imitation==1.0.0) (1.4.2)\n",
      "Requirement already satisfied: threadpoolctl>=3.1.0 in c:\\users\\sorbonne\\appdata\\local\\packages\\pythonsoftwarefoundation.python.3.9_qbz5n2kfra8p0\\localcache\\local-packages\\python39\\site-packages (from scikit-learn>=0.21.2->imitation==1.0.0) (3.5.0)\n",
      "Requirement already satisfied: absl-py>=0.4 in c:\\users\\sorbonne\\appdata\\local\\packages\\pythonsoftwarefoundation.python.3.9_qbz5n2kfra8p0\\localcache\\local-packages\\python39\\site-packages (from tensorboard>=1.14->imitation==1.0.0) (2.1.0)\n",
      "Requirement already satisfied: grpcio>=1.48.2 in c:\\users\\sorbonne\\appdata\\local\\packages\\pythonsoftwarefoundation.python.3.9_qbz5n2kfra8p0\\localcache\\local-packages\\python39\\site-packages (from tensorboard>=1.14->imitation==1.0.0) (1.67.1)\n",
      "Requirement already satisfied: google-auth<3,>=1.6.3 in c:\\users\\sorbonne\\appdata\\local\\packages\\pythonsoftwarefoundation.python.3.9_qbz5n2kfra8p0\\localcache\\local-packages\\python39\\site-packages (from tensorboard>=1.14->imitation==1.0.0) (2.36.0)\n",
      "Requirement already satisfied: google-auth-oauthlib<1.1,>=0.5 in c:\\users\\sorbonne\\appdata\\local\\packages\\pythonsoftwarefoundation.python.3.9_qbz5n2kfra8p0\\localcache\\local-packages\\python39\\site-packages (from tensorboard>=1.14->imitation==1.0.0) (1.0.0)\n",
      "Requirement already satisfied: markdown>=2.6.8 in c:\\users\\sorbonne\\appdata\\local\\packages\\pythonsoftwarefoundation.python.3.9_qbz5n2kfra8p0\\localcache\\local-packages\\python39\\site-packages (from tensorboard>=1.14->imitation==1.0.0) (3.7)\n",
      "Requirement already satisfied: protobuf>=3.19.6 in c:\\users\\sorbonne\\appdata\\local\\packages\\pythonsoftwarefoundation.python.3.9_qbz5n2kfra8p0\\localcache\\local-packages\\python39\\site-packages (from tensorboard>=1.14->imitation==1.0.0) (4.25.5)\n",
      "Requirement already satisfied: setuptools>=41.0.0 in c:\\users\\sorbonne\\appdata\\local\\packages\\pythonsoftwarefoundation.python.3.9_qbz5n2kfra8p0\\localcache\\local-packages\\python39\\site-packages (from tensorboard>=1.14->imitation==1.0.0) (75.3.0)\n",
      "Requirement already satisfied: tensorboard-data-server<0.8.0,>=0.7.0 in c:\\users\\sorbonne\\appdata\\local\\packages\\pythonsoftwarefoundation.python.3.9_qbz5n2kfra8p0\\localcache\\local-packages\\python39\\site-packages (from tensorboard>=1.14->imitation==1.0.0) (0.7.2)\n",
      "Requirement already satisfied: werkzeug>=1.0.1 in c:\\users\\sorbonne\\appdata\\local\\packages\\pythonsoftwarefoundation.python.3.9_qbz5n2kfra8p0\\localcache\\local-packages\\python39\\site-packages (from tensorboard>=1.14->imitation==1.0.0) (3.0.6)\n",
      "Requirement already satisfied: wheel>=0.26 in c:\\users\\sorbonne\\appdata\\local\\packages\\pythonsoftwarefoundation.python.3.9_qbz5n2kfra8p0\\localcache\\local-packages\\python39\\site-packages (from tensorboard>=1.14->imitation==1.0.0) (0.44.0)\n",
      "Requirement already satisfied: networkx in c:\\users\\sorbonne\\appdata\\local\\packages\\pythonsoftwarefoundation.python.3.9_qbz5n2kfra8p0\\localcache\\local-packages\\python39\\site-packages (from torch>=1.13->stable-baselines3==2.4.0) (3.2.1)\n",
      "Requirement already satisfied: jinja2 in c:\\users\\sorbonne\\appdata\\local\\packages\\pythonsoftwarefoundation.python.3.9_qbz5n2kfra8p0\\localcache\\local-packages\\python39\\site-packages (from torch>=1.13->stable-baselines3==2.4.0) (3.1.4)\n",
      "Requirement already satisfied: sympy==1.13.1 in c:\\users\\sorbonne\\appdata\\local\\packages\\pythonsoftwarefoundation.python.3.9_qbz5n2kfra8p0\\localcache\\local-packages\\python39\\site-packages (from torch>=1.13->stable-baselines3==2.4.0) (1.13.1)\n",
      "Requirement already satisfied: mpmath<1.4,>=1.1.0 in c:\\users\\sorbonne\\appdata\\local\\packages\\pythonsoftwarefoundation.python.3.9_qbz5n2kfra8p0\\localcache\\local-packages\\python39\\site-packages (from sympy==1.13.1->torch>=1.13->stable-baselines3==2.4.0) (1.3.0)\n",
      "Requirement already satisfied: contourpy>=1.0.1 in c:\\users\\sorbonne\\appdata\\local\\packages\\pythonsoftwarefoundation.python.3.9_qbz5n2kfra8p0\\localcache\\local-packages\\python39\\site-packages (from matplotlib->stable-baselines3==2.4.0) (1.3.0)\n",
      "Requirement already satisfied: cycler>=0.10 in c:\\users\\sorbonne\\appdata\\local\\packages\\pythonsoftwarefoundation.python.3.9_qbz5n2kfra8p0\\localcache\\local-packages\\python39\\site-packages (from matplotlib->stable-baselines3==2.4.0) (0.12.1)\n",
      "Requirement already satisfied: fonttools>=4.22.0 in c:\\users\\sorbonne\\appdata\\local\\packages\\pythonsoftwarefoundation.python.3.9_qbz5n2kfra8p0\\localcache\\local-packages\\python39\\site-packages (from matplotlib->stable-baselines3==2.4.0) (4.54.1)\n",
      "Requirement already satisfied: kiwisolver>=1.0.1 in c:\\users\\sorbonne\\appdata\\local\\packages\\pythonsoftwarefoundation.python.3.9_qbz5n2kfra8p0\\localcache\\local-packages\\python39\\site-packages (from matplotlib->stable-baselines3==2.4.0) (1.4.7)\n",
      "Requirement already satisfied: pillow>=6.2.0 in c:\\users\\sorbonne\\appdata\\local\\packages\\pythonsoftwarefoundation.python.3.9_qbz5n2kfra8p0\\localcache\\local-packages\\python39\\site-packages (from matplotlib->stable-baselines3==2.4.0) (11.0.0)\n",
      "Requirement already satisfied: pyparsing>=2.3.1 in c:\\users\\sorbonne\\appdata\\local\\packages\\pythonsoftwarefoundation.python.3.9_qbz5n2kfra8p0\\localcache\\local-packages\\python39\\site-packages (from matplotlib->stable-baselines3==2.4.0) (3.2.0)\n",
      "Requirement already satisfied: python-dateutil>=2.7 in c:\\users\\sorbonne\\appdata\\local\\packages\\pythonsoftwarefoundation.python.3.9_qbz5n2kfra8p0\\localcache\\local-packages\\python39\\site-packages (from matplotlib->stable-baselines3==2.4.0) (2.9.0.post0)\n",
      "Requirement already satisfied: importlib-resources>=3.2.0 in c:\\users\\sorbonne\\appdata\\local\\packages\\pythonsoftwarefoundation.python.3.9_qbz5n2kfra8p0\\localcache\\local-packages\\python39\\site-packages (from matplotlib->stable-baselines3==2.4.0) (6.4.5)\n",
      "Requirement already satisfied: pytz>=2020.1 in c:\\users\\sorbonne\\appdata\\local\\packages\\pythonsoftwarefoundation.python.3.9_qbz5n2kfra8p0\\localcache\\local-packages\\python39\\site-packages (from pandas->stable-baselines3==2.4.0) (2024.2)\n",
      "Requirement already satisfied: tzdata>=2022.7 in c:\\users\\sorbonne\\appdata\\local\\packages\\pythonsoftwarefoundation.python.3.9_qbz5n2kfra8p0\\localcache\\local-packages\\python39\\site-packages (from pandas->stable-baselines3==2.4.0) (2024.2)\n",
      "Requirement already satisfied: markdown-it-py>=2.2.0 in c:\\users\\sorbonne\\appdata\\local\\packages\\pythonsoftwarefoundation.python.3.9_qbz5n2kfra8p0\\localcache\\local-packages\\python39\\site-packages (from rich->imitation==1.0.0) (3.0.0)\n",
      "Requirement already satisfied: pygments<3.0.0,>=2.13.0 in c:\\users\\sorbonne\\appdata\\local\\packages\\pythonsoftwarefoundation.python.3.9_qbz5n2kfra8p0\\localcache\\local-packages\\python39\\site-packages (from rich->imitation==1.0.0) (2.18.0)\n",
      "Requirement already satisfied: Mako in c:\\users\\sorbonne\\appdata\\local\\packages\\pythonsoftwarefoundation.python.3.9_qbz5n2kfra8p0\\localcache\\local-packages\\python39\\site-packages (from alembic>=1.5.0->optuna>=3.0.1->imitation==1.0.0) (1.3.6)\n",
      "Requirement already satisfied: aiohappyeyeballs>=2.3.0 in c:\\users\\sorbonne\\appdata\\local\\packages\\pythonsoftwarefoundation.python.3.9_qbz5n2kfra8p0\\localcache\\local-packages\\python39\\site-packages (from aiohttp->datasets>=2.8.0->imitation==1.0.0) (2.4.3)\n",
      "Requirement already satisfied: aiosignal>=1.1.2 in c:\\users\\sorbonne\\appdata\\local\\packages\\pythonsoftwarefoundation.python.3.9_qbz5n2kfra8p0\\localcache\\local-packages\\python39\\site-packages (from aiohttp->datasets>=2.8.0->imitation==1.0.0) (1.3.1)\n",
      "Requirement already satisfied: attrs>=17.3.0 in c:\\users\\sorbonne\\appdata\\local\\packages\\pythonsoftwarefoundation.python.3.9_qbz5n2kfra8p0\\localcache\\local-packages\\python39\\site-packages (from aiohttp->datasets>=2.8.0->imitation==1.0.0) (24.2.0)\n",
      "Requirement already satisfied: frozenlist>=1.1.1 in c:\\users\\sorbonne\\appdata\\local\\packages\\pythonsoftwarefoundation.python.3.9_qbz5n2kfra8p0\\localcache\\local-packages\\python39\\site-packages (from aiohttp->datasets>=2.8.0->imitation==1.0.0) (1.5.0)\n",
      "Requirement already satisfied: multidict<7.0,>=4.5 in c:\\users\\sorbonne\\appdata\\local\\packages\\pythonsoftwarefoundation.python.3.9_qbz5n2kfra8p0\\localcache\\local-packages\\python39\\site-packages (from aiohttp->datasets>=2.8.0->imitation==1.0.0) (6.1.0)\n",
      "Requirement already satisfied: yarl<2.0,>=1.12.0 in c:\\users\\sorbonne\\appdata\\local\\packages\\pythonsoftwarefoundation.python.3.9_qbz5n2kfra8p0\\localcache\\local-packages\\python39\\site-packages (from aiohttp->datasets>=2.8.0->imitation==1.0.0) (1.17.1)\n",
      "Requirement already satisfied: async-timeout<5.0,>=4.0 in c:\\users\\sorbonne\\appdata\\local\\packages\\pythonsoftwarefoundation.python.3.9_qbz5n2kfra8p0\\localcache\\local-packages\\python39\\site-packages (from aiohttp->datasets>=2.8.0->imitation==1.0.0) (4.0.3)\n",
      "Requirement already satisfied: cachetools<6.0,>=2.0.0 in c:\\users\\sorbonne\\appdata\\local\\packages\\pythonsoftwarefoundation.python.3.9_qbz5n2kfra8p0\\localcache\\local-packages\\python39\\site-packages (from google-auth<3,>=1.6.3->tensorboard>=1.14->imitation==1.0.0) (5.5.0)\n",
      "Requirement already satisfied: pyasn1-modules>=0.2.1 in c:\\users\\sorbonne\\appdata\\local\\packages\\pythonsoftwarefoundation.python.3.9_qbz5n2kfra8p0\\localcache\\local-packages\\python39\\site-packages (from google-auth<3,>=1.6.3->tensorboard>=1.14->imitation==1.0.0) (0.4.1)\n",
      "Requirement already satisfied: rsa<5,>=3.1.4 in c:\\users\\sorbonne\\appdata\\local\\packages\\pythonsoftwarefoundation.python.3.9_qbz5n2kfra8p0\\localcache\\local-packages\\python39\\site-packages (from google-auth<3,>=1.6.3->tensorboard>=1.14->imitation==1.0.0) (4.9)\n",
      "Requirement already satisfied: requests-oauthlib>=0.7.0 in c:\\users\\sorbonne\\appdata\\local\\packages\\pythonsoftwarefoundation.python.3.9_qbz5n2kfra8p0\\localcache\\local-packages\\python39\\site-packages (from google-auth-oauthlib<1.1,>=0.5->tensorboard>=1.14->imitation==1.0.0) (2.0.0)\n",
      "Requirement already satisfied: mdurl~=0.1 in c:\\users\\sorbonne\\appdata\\local\\packages\\pythonsoftwarefoundation.python.3.9_qbz5n2kfra8p0\\localcache\\local-packages\\python39\\site-packages (from markdown-it-py>=2.2.0->rich->imitation==1.0.0) (0.1.2)\n",
      "Requirement already satisfied: six>=1.5 in c:\\users\\sorbonne\\appdata\\local\\packages\\pythonsoftwarefoundation.python.3.9_qbz5n2kfra8p0\\localcache\\local-packages\\python39\\site-packages (from python-dateutil>=2.7->matplotlib->stable-baselines3==2.4.0) (1.16.0)\n",
      "Requirement already satisfied: charset-normalizer<4,>=2 in c:\\users\\sorbonne\\appdata\\local\\packages\\pythonsoftwarefoundation.python.3.9_qbz5n2kfra8p0\\localcache\\local-packages\\python39\\site-packages (from requests>=2.32.2->datasets>=2.8.0->imitation==1.0.0) (3.4.0)\n",
      "Requirement already satisfied: idna<4,>=2.5 in c:\\users\\sorbonne\\appdata\\local\\packages\\pythonsoftwarefoundation.python.3.9_qbz5n2kfra8p0\\localcache\\local-packages\\python39\\site-packages (from requests>=2.32.2->datasets>=2.8.0->imitation==1.0.0) (3.10)\n",
      "Requirement already satisfied: urllib3<3,>=1.21.1 in c:\\users\\sorbonne\\appdata\\local\\packages\\pythonsoftwarefoundation.python.3.9_qbz5n2kfra8p0\\localcache\\local-packages\\python39\\site-packages (from requests>=2.32.2->datasets>=2.8.0->imitation==1.0.0) (2.2.3)\n",
      "Requirement already satisfied: certifi>=2017.4.17 in c:\\users\\sorbonne\\appdata\\local\\packages\\pythonsoftwarefoundation.python.3.9_qbz5n2kfra8p0\\localcache\\local-packages\\python39\\site-packages (from requests>=2.32.2->datasets>=2.8.0->imitation==1.0.0) (2024.8.30)\n",
      "Requirement already satisfied: greenlet!=0.4.17 in c:\\users\\sorbonne\\appdata\\local\\packages\\pythonsoftwarefoundation.python.3.9_qbz5n2kfra8p0\\localcache\\local-packages\\python39\\site-packages (from sqlalchemy>=1.3.0->optuna>=3.0.1->imitation==1.0.0) (3.1.1)\n",
      "Requirement already satisfied: MarkupSafe>=2.1.1 in c:\\users\\sorbonne\\appdata\\local\\packages\\pythonsoftwarefoundation.python.3.9_qbz5n2kfra8p0\\localcache\\local-packages\\python39\\site-packages (from werkzeug>=1.0.1->tensorboard>=1.14->imitation==1.0.0) (3.0.2)\n",
      "Requirement already satisfied: gitdb<5,>=4.0.1 in c:\\users\\sorbonne\\appdata\\local\\packages\\pythonsoftwarefoundation.python.3.9_qbz5n2kfra8p0\\localcache\\local-packages\\python39\\site-packages (from GitPython->sacred>=0.8.4->imitation==1.0.0) (4.0.11)\n",
      "Requirement already satisfied: smmap<6,>=3.0.1 in c:\\users\\sorbonne\\appdata\\local\\packages\\pythonsoftwarefoundation.python.3.9_qbz5n2kfra8p0\\localcache\\local-packages\\python39\\site-packages (from gitdb<5,>=4.0.1->GitPython->sacred>=0.8.4->imitation==1.0.0) (5.0.1)\n",
      "Requirement already satisfied: pyasn1<0.7.0,>=0.4.6 in c:\\users\\sorbonne\\appdata\\local\\packages\\pythonsoftwarefoundation.python.3.9_qbz5n2kfra8p0\\localcache\\local-packages\\python39\\site-packages (from pyasn1-modules>=0.2.1->google-auth<3,>=1.6.3->tensorboard>=1.14->imitation==1.0.0) (0.6.1)\n",
      "Requirement already satisfied: oauthlib>=3.0.0 in c:\\users\\sorbonne\\appdata\\local\\packages\\pythonsoftwarefoundation.python.3.9_qbz5n2kfra8p0\\localcache\\local-packages\\python39\\site-packages (from requests-oauthlib>=0.7.0->google-auth-oauthlib<1.1,>=0.5->tensorboard>=1.14->imitation==1.0.0) (3.2.2)\n",
      "Requirement already satisfied: propcache>=0.2.0 in c:\\users\\sorbonne\\appdata\\local\\packages\\pythonsoftwarefoundation.python.3.9_qbz5n2kfra8p0\\localcache\\local-packages\\python39\\site-packages (from yarl<2.0,>=1.12.0->aiohttp->datasets>=2.8.0->imitation==1.0.0) (0.2.0)\n",
      "Using cached stable_baselines3-2.4.0-py3-none-any.whl (183 kB)\n",
      "Installing collected packages: stable-baselines3\n",
      "  Attempting uninstall: stable-baselines3\n",
      "    Found existing installation: stable_baselines3 2.3.2\n",
      "    Uninstalling stable_baselines3-2.3.2:\n",
      "      Successfully uninstalled stable_baselines3-2.3.2\n",
      "Successfully installed stable-baselines3-2.4.0\n"
     ]
    }
   ],
   "source": [
    "!pip install stable-baselines3==2.4.0 gymnasium==0.29.1 imitation==1.0.0\n"
>>>>>>> f9e210c (Sauvegarde des modifications locales)
   ]
  },
  {
   "cell_type": "code",
   "execution_count": 6,
   "metadata": {},
   "outputs": [
    {
     "name": "stdout",
     "output_type": "stream",
     "text": [
<<<<<<< HEAD
      "Collecting imitation\n",
      "  Using cached imitation-1.0.0-py3-none-any.whl.metadata (14 kB)\n",
      "Collecting gymnasium~=0.29 (from gymnasium[classic-control]~=0.29->imitation)\n",
      "  Using cached gymnasium-0.29.1-py3-none-any.whl.metadata (10 kB)\n",
      "Requirement already satisfied: matplotlib in c:\\users\\sorbonne\\miniforge3\\lib\\site-packages (from imitation) (3.9.2)\n",
      "Requirement already satisfied: numpy>=1.15 in c:\\users\\sorbonne\\miniforge3\\lib\\site-packages (from imitation) (1.26.4)\n",
      "Requirement already satisfied: torch>=1.4.0 in c:\\users\\sorbonne\\miniforge3\\lib\\site-packages (from imitation) (2.5.1)\n",
      "Requirement already satisfied: tqdm in c:\\users\\sorbonne\\miniforge3\\lib\\site-packages (from imitation) (4.67.0)\n",
      "Requirement already satisfied: rich in c:\\users\\sorbonne\\miniforge3\\lib\\site-packages (from imitation) (13.9.4)\n",
      "Collecting scikit-learn>=0.21.2 (from imitation)\n",
      "  Using cached scikit_learn-1.5.2-cp312-cp312-win_amd64.whl.metadata (13 kB)\n",
      "Collecting seals~=0.2.1 (from imitation)\n",
      "  Using cached seals-0.2.1-py3-none-any.whl.metadata (8.9 kB)\n",
      "Requirement already satisfied: stable-baselines3~=2.0 in c:\\users\\sorbonne\\miniforge3\\lib\\site-packages (from imitation) (2.4.0)\n",
      "Collecting sacred>=0.8.4 (from imitation)\n",
      "  Using cached sacred-0.8.6-py2.py3-none-any.whl.metadata (13 kB)\n",
      "Requirement already satisfied: tensorboard>=1.14 in c:\\users\\sorbonne\\miniforge3\\lib\\site-packages (from imitation) (2.18.0)\n",
      "Collecting huggingface-sb3~=3.0 (from imitation)\n",
      "  Downloading huggingface_sb3-3.0-py3-none-any.whl.metadata (6.3 kB)\n",
      "Collecting optuna>=3.0.1 (from imitation)\n",
      "  Downloading optuna-4.1.0-py3-none-any.whl.metadata (16 kB)\n",
      "Collecting datasets>=2.8.0 (from imitation)\n",
      "  Downloading datasets-3.1.0-py3-none-any.whl.metadata (20 kB)\n",
      "Requirement already satisfied: filelock in c:\\users\\sorbonne\\miniforge3\\lib\\site-packages (from datasets>=2.8.0->imitation) (3.16.1)\n",
      "Collecting pyarrow>=15.0.0 (from datasets>=2.8.0->imitation)\n",
      "  Downloading pyarrow-18.0.0-cp312-cp312-win_amd64.whl.metadata (3.4 kB)\n",
      "Collecting dill<0.3.9,>=0.3.0 (from datasets>=2.8.0->imitation)\n",
      "  Downloading dill-0.3.8-py3-none-any.whl.metadata (10 kB)\n",
      "Requirement already satisfied: pandas in c:\\users\\sorbonne\\miniforge3\\lib\\site-packages (from datasets>=2.8.0->imitation) (2.2.3)\n",
      "Requirement already satisfied: requests>=2.32.2 in c:\\users\\sorbonne\\miniforge3\\lib\\site-packages (from datasets>=2.8.0->imitation) (2.32.3)\n",
      "Collecting xxhash (from datasets>=2.8.0->imitation)\n",
      "  Downloading xxhash-3.5.0-cp312-cp312-win_amd64.whl.metadata (13 kB)\n",
      "Collecting multiprocess<0.70.17 (from datasets>=2.8.0->imitation)\n",
      "  Downloading multiprocess-0.70.16-py312-none-any.whl.metadata (7.2 kB)\n",
      "Collecting fsspec<=2024.9.0,>=2023.1.0 (from fsspec[http]<=2024.9.0,>=2023.1.0->datasets>=2.8.0->imitation)\n",
      "  Downloading fsspec-2024.9.0-py3-none-any.whl.metadata (11 kB)\n",
      "Collecting aiohttp (from datasets>=2.8.0->imitation)\n",
      "  Downloading aiohttp-3.11.4-cp312-cp312-win_amd64.whl.metadata (8.0 kB)\n",
      "Collecting huggingface-hub>=0.23.0 (from datasets>=2.8.0->imitation)\n",
      "  Downloading huggingface_hub-0.26.2-py3-none-any.whl.metadata (13 kB)\n",
      "Requirement already satisfied: packaging in c:\\users\\sorbonne\\miniforge3\\lib\\site-packages (from datasets>=2.8.0->imitation) (24.2)\n",
      "Requirement already satisfied: pyyaml>=5.1 in c:\\users\\sorbonne\\miniforge3\\lib\\site-packages (from datasets>=2.8.0->imitation) (6.0.2)\n",
      "Requirement already satisfied: cloudpickle>=1.2.0 in c:\\users\\sorbonne\\miniforge3\\lib\\site-packages (from gymnasium~=0.29->gymnasium[classic-control]~=0.29->imitation) (3.1.0)\n",
      "Requirement already satisfied: typing-extensions>=4.3.0 in c:\\users\\sorbonne\\miniforge3\\lib\\site-packages (from gymnasium~=0.29->gymnasium[classic-control]~=0.29->imitation) (4.12.2)\n",
      "Requirement already satisfied: farama-notifications>=0.0.1 in c:\\users\\sorbonne\\miniforge3\\lib\\site-packages (from gymnasium~=0.29->gymnasium[classic-control]~=0.29->imitation) (0.0.4)\n",
      "Requirement already satisfied: pygame>=2.1.3 in c:\\users\\sorbonne\\miniforge3\\lib\\site-packages (from gymnasium[classic-control]~=0.29->imitation) (2.6.1)\n",
      "Collecting wasabi (from huggingface-sb3~=3.0->imitation)\n",
      "  Downloading wasabi-1.1.3-py3-none-any.whl.metadata (28 kB)\n",
      "Collecting alembic>=1.5.0 (from optuna>=3.0.1->imitation)\n",
      "  Downloading alembic-1.14.0-py3-none-any.whl.metadata (7.4 kB)\n",
      "Collecting colorlog (from optuna>=3.0.1->imitation)\n",
      "  Downloading colorlog-6.9.0-py3-none-any.whl.metadata (10 kB)\n",
      "Collecting sqlalchemy>=1.4.2 (from optuna>=3.0.1->imitation)\n",
      "  Downloading SQLAlchemy-2.0.36-cp312-cp312-win_amd64.whl.metadata (9.9 kB)\n",
      "Collecting docopt-ng<1.0,>=0.9 (from sacred>=0.8.4->imitation)\n",
      "  Downloading docopt_ng-0.9.0-py3-none-any.whl.metadata (13 kB)\n",
      "Collecting jsonpickle>=2.2.0 (from sacred>=0.8.4->imitation)\n",
      "  Downloading jsonpickle-4.0.0-py3-none-any.whl.metadata (8.2 kB)\n",
      "Collecting munch<5.0,>=2.5 (from sacred>=0.8.4->imitation)\n",
      "  Downloading munch-4.0.0-py2.py3-none-any.whl.metadata (5.9 kB)\n",
      "Collecting wrapt<2.0,>=1.0 (from sacred>=0.8.4->imitation)\n",
      "  Downloading wrapt-1.16.0-cp312-cp312-win_amd64.whl.metadata (6.8 kB)\n",
      "Collecting py-cpuinfo>=4.0 (from sacred>=0.8.4->imitation)\n",
      "  Downloading py_cpuinfo-9.0.0-py3-none-any.whl.metadata (794 bytes)\n",
      "Requirement already satisfied: colorama>=0.4 in c:\\users\\sorbonne\\miniforge3\\lib\\site-packages (from sacred>=0.8.4->imitation) (0.4.6)\n",
      "Collecting GitPython (from sacred>=0.8.4->imitation)\n",
      "  Downloading GitPython-3.1.43-py3-none-any.whl.metadata (13 kB)\n",
      "Requirement already satisfied: scipy>=1.6.0 in c:\\users\\sorbonne\\miniforge3\\lib\\site-packages (from scikit-learn>=0.21.2->imitation) (1.14.1)\n",
      "Collecting joblib>=1.2.0 (from scikit-learn>=0.21.2->imitation)\n",
      "  Using cached joblib-1.4.2-py3-none-any.whl.metadata (5.4 kB)\n",
      "Collecting threadpoolctl>=3.1.0 (from scikit-learn>=0.21.2->imitation)\n",
      "  Using cached threadpoolctl-3.5.0-py3-none-any.whl.metadata (13 kB)\n",
      "Requirement already satisfied: absl-py>=0.4 in c:\\users\\sorbonne\\miniforge3\\lib\\site-packages (from tensorboard>=1.14->imitation) (2.1.0)\n",
      "Requirement already satisfied: grpcio>=1.48.2 in c:\\users\\sorbonne\\miniforge3\\lib\\site-packages (from tensorboard>=1.14->imitation) (1.68.0)\n",
      "Requirement already satisfied: markdown>=2.6.8 in c:\\users\\sorbonne\\miniforge3\\lib\\site-packages (from tensorboard>=1.14->imitation) (3.7)\n",
      "Requirement already satisfied: protobuf!=4.24.0,>=3.19.6 in c:\\users\\sorbonne\\miniforge3\\lib\\site-packages (from tensorboard>=1.14->imitation) (5.28.3)\n",
      "Requirement already satisfied: setuptools>=41.0.0 in c:\\users\\sorbonne\\miniforge3\\lib\\site-packages (from tensorboard>=1.14->imitation) (75.5.0)\n",
      "Requirement already satisfied: six>1.9 in c:\\users\\sorbonne\\miniforge3\\lib\\site-packages (from tensorboard>=1.14->imitation) (1.16.0)\n",
      "Requirement already satisfied: tensorboard-data-server<0.8.0,>=0.7.0 in c:\\users\\sorbonne\\miniforge3\\lib\\site-packages (from tensorboard>=1.14->imitation) (0.7.2)\n",
      "Requirement already satisfied: werkzeug>=1.0.1 in c:\\users\\sorbonne\\miniforge3\\lib\\site-packages (from tensorboard>=1.14->imitation) (3.1.3)\n",
      "Requirement already satisfied: networkx in c:\\users\\sorbonne\\miniforge3\\lib\\site-packages (from torch>=1.4.0->imitation) (3.4.2)\n",
      "Requirement already satisfied: jinja2 in c:\\users\\sorbonne\\miniforge3\\lib\\site-packages (from torch>=1.4.0->imitation) (3.1.4)\n",
      "Requirement already satisfied: sympy==1.13.1 in c:\\users\\sorbonne\\miniforge3\\lib\\site-packages (from torch>=1.4.0->imitation) (1.13.1)\n",
      "Requirement already satisfied: mpmath<1.4,>=1.1.0 in c:\\users\\sorbonne\\miniforge3\\lib\\site-packages (from sympy==1.13.1->torch>=1.4.0->imitation) (1.3.0)\n",
      "Requirement already satisfied: contourpy>=1.0.1 in c:\\users\\sorbonne\\miniforge3\\lib\\site-packages (from matplotlib->imitation) (1.3.1)\n",
      "Requirement already satisfied: cycler>=0.10 in c:\\users\\sorbonne\\miniforge3\\lib\\site-packages (from matplotlib->imitation) (0.12.1)\n",
      "Requirement already satisfied: fonttools>=4.22.0 in c:\\users\\sorbonne\\miniforge3\\lib\\site-packages (from matplotlib->imitation) (4.55.0)\n",
      "Requirement already satisfied: kiwisolver>=1.3.1 in c:\\users\\sorbonne\\miniforge3\\lib\\site-packages (from matplotlib->imitation) (1.4.7)\n",
      "Requirement already satisfied: pillow>=8 in c:\\users\\sorbonne\\miniforge3\\lib\\site-packages (from matplotlib->imitation) (11.0.0)\n",
      "Requirement already satisfied: pyparsing>=2.3.1 in c:\\users\\sorbonne\\miniforge3\\lib\\site-packages (from matplotlib->imitation) (3.2.0)\n",
      "Requirement already satisfied: python-dateutil>=2.7 in c:\\users\\sorbonne\\miniforge3\\lib\\site-packages (from matplotlib->imitation) (2.9.0.post0)\n",
      "Requirement already satisfied: markdown-it-py>=2.2.0 in c:\\users\\sorbonne\\miniforge3\\lib\\site-packages (from rich->imitation) (3.0.0)\n",
      "Requirement already satisfied: pygments<3.0.0,>=2.13.0 in c:\\users\\sorbonne\\miniforge3\\lib\\site-packages (from rich->imitation) (2.18.0)\n",
      "Collecting Mako (from alembic>=1.5.0->optuna>=3.0.1->imitation)\n",
      "  Downloading Mako-1.3.6-py3-none-any.whl.metadata (2.9 kB)\n",
      "Collecting aiohappyeyeballs>=2.3.0 (from aiohttp->datasets>=2.8.0->imitation)\n",
      "  Downloading aiohappyeyeballs-2.4.3-py3-none-any.whl.metadata (6.1 kB)\n",
      "Collecting aiosignal>=1.1.2 (from aiohttp->datasets>=2.8.0->imitation)\n",
      "  Downloading aiosignal-1.3.1-py3-none-any.whl.metadata (4.0 kB)\n",
      "Requirement already satisfied: attrs>=17.3.0 in c:\\users\\sorbonne\\miniforge3\\lib\\site-packages (from aiohttp->datasets>=2.8.0->imitation) (24.2.0)\n",
      "Collecting frozenlist>=1.1.1 (from aiohttp->datasets>=2.8.0->imitation)\n",
      "  Downloading frozenlist-1.5.0-cp312-cp312-win_amd64.whl.metadata (14 kB)\n",
      "Collecting multidict<7.0,>=4.5 (from aiohttp->datasets>=2.8.0->imitation)\n",
      "  Downloading multidict-6.1.0-cp312-cp312-win_amd64.whl.metadata (5.1 kB)\n",
      "Collecting propcache>=0.2.0 (from aiohttp->datasets>=2.8.0->imitation)\n",
      "  Downloading propcache-0.2.0-cp312-cp312-win_amd64.whl.metadata (7.9 kB)\n",
      "Collecting yarl<2.0,>=1.17.0 (from aiohttp->datasets>=2.8.0->imitation)\n",
      "  Downloading yarl-1.17.2-cp312-cp312-win_amd64.whl.metadata (68 kB)\n",
      "Requirement already satisfied: mdurl~=0.1 in c:\\users\\sorbonne\\miniforge3\\lib\\site-packages (from markdown-it-py>=2.2.0->rich->imitation) (0.1.2)\n",
      "Requirement already satisfied: charset-normalizer<4,>=2 in c:\\users\\sorbonne\\miniforge3\\lib\\site-packages (from requests>=2.32.2->datasets>=2.8.0->imitation) (3.4.0)\n",
      "Requirement already satisfied: idna<4,>=2.5 in c:\\users\\sorbonne\\miniforge3\\lib\\site-packages (from requests>=2.32.2->datasets>=2.8.0->imitation) (3.10)\n",
      "Requirement already satisfied: urllib3<3,>=1.21.1 in c:\\users\\sorbonne\\miniforge3\\lib\\site-packages (from requests>=2.32.2->datasets>=2.8.0->imitation) (2.2.3)\n",
      "Requirement already satisfied: certifi>=2017.4.17 in c:\\users\\sorbonne\\miniforge3\\lib\\site-packages (from requests>=2.32.2->datasets>=2.8.0->imitation) (2024.8.30)\n",
      "Collecting greenlet!=0.4.17 (from sqlalchemy>=1.4.2->optuna>=3.0.1->imitation)\n",
      "  Downloading greenlet-3.1.1-cp312-cp312-win_amd64.whl.metadata (3.9 kB)\n",
      "Requirement already satisfied: MarkupSafe>=2.1.1 in c:\\users\\sorbonne\\miniforge3\\lib\\site-packages (from werkzeug>=1.0.1->tensorboard>=1.14->imitation) (3.0.2)\n",
      "Collecting gitdb<5,>=4.0.1 (from GitPython->sacred>=0.8.4->imitation)\n",
      "  Downloading gitdb-4.0.11-py3-none-any.whl.metadata (1.2 kB)\n",
      "Requirement already satisfied: pytz>=2020.1 in c:\\users\\sorbonne\\miniforge3\\lib\\site-packages (from pandas->datasets>=2.8.0->imitation) (2024.2)\n",
      "Requirement already satisfied: tzdata>=2022.7 in c:\\users\\sorbonne\\miniforge3\\lib\\site-packages (from pandas->datasets>=2.8.0->imitation) (2024.2)\n",
      "Collecting smmap<6,>=3.0.1 (from gitdb<5,>=4.0.1->GitPython->sacred>=0.8.4->imitation)\n",
      "  Downloading smmap-5.0.1-py3-none-any.whl.metadata (4.3 kB)\n",
      "Downloading imitation-1.0.0-py3-none-any.whl (216 kB)\n",
      "Downloading datasets-3.1.0-py3-none-any.whl (480 kB)\n",
      "Downloading gymnasium-0.29.1-py3-none-any.whl (953 kB)\n",
      "   ---------------------------------------- 0.0/953.9 kB ? eta -:--:--\n",
      "   ---------------------------------------- 0.0/953.9 kB ? eta -:--:--\n",
      "   ---------------------------------------- 0.0/953.9 kB ? eta -:--:--\n",
      "   ---------- ----------------------------- 262.1/953.9 kB ? eta -:--:--\n",
      "   --------------------- ------------------ 524.3/953.9 kB 2.4 MB/s eta 0:00:01\n",
      "   -------------------------------- ------- 786.4/953.9 kB 1.6 MB/s eta 0:00:01\n",
      "   ---------------------------------------- 953.9/953.9 kB 1.1 MB/s eta 0:00:00\n",
      "Downloading huggingface_sb3-3.0-py3-none-any.whl (9.7 kB)\n",
      "Downloading optuna-4.1.0-py3-none-any.whl (364 kB)\n",
      "Downloading sacred-0.8.6-py2.py3-none-any.whl (108 kB)\n",
      "Downloading scikit_learn-1.5.2-cp312-cp312-win_amd64.whl (11.0 MB)\n",
      "   ---------------------------------------- 0.0/11.0 MB ? eta -:--:--\n",
      "    --------------------------------------- 0.3/11.0 MB ? eta -:--:--\n",
      "   -- ------------------------------------- 0.8/11.0 MB 2.4 MB/s eta 0:00:05\n",
      "   ---- ----------------------------------- 1.3/11.0 MB 2.4 MB/s eta 0:00:05\n",
      "   ----- ---------------------------------- 1.6/11.0 MB 2.2 MB/s eta 0:00:05\n",
      "   ------ --------------------------------- 1.8/11.0 MB 2.0 MB/s eta 0:00:05\n",
      "   ------- -------------------------------- 2.1/11.0 MB 1.6 MB/s eta 0:00:06\n",
      "   --------- ------------------------------ 2.6/11.0 MB 1.7 MB/s eta 0:00:05\n",
      "   ----------- ---------------------------- 3.1/11.0 MB 1.9 MB/s eta 0:00:05\n",
      "   ------------ --------------------------- 3.4/11.0 MB 1.9 MB/s eta 0:00:05\n",
      "   --------------- ------------------------ 4.2/11.0 MB 2.0 MB/s eta 0:00:04\n",
      "   ---------------- ----------------------- 4.5/11.0 MB 2.0 MB/s eta 0:00:04\n",
      "   ------------------ --------------------- 5.0/11.0 MB 2.0 MB/s eta 0:00:04\n",
      "   -------------------- ------------------- 5.8/11.0 MB 2.1 MB/s eta 0:00:03\n",
      "   ---------------------- ----------------- 6.3/11.0 MB 2.2 MB/s eta 0:00:03\n",
      "   ------------------------ --------------- 6.8/11.0 MB 2.2 MB/s eta 0:00:02\n",
      "   --------------------------- ------------ 7.6/11.0 MB 2.3 MB/s eta 0:00:02\n",
      "   ----------------------------- ---------- 8.1/11.0 MB 2.3 MB/s eta 0:00:02\n",
      "   --------------------------------- ------ 9.2/11.0 MB 2.4 MB/s eta 0:00:01\n",
      "   ------------------------------------ --- 10.0/11.0 MB 2.5 MB/s eta 0:00:01\n",
      "   -------------------------------------- - 10.5/11.0 MB 2.5 MB/s eta 0:00:01\n",
      "   ---------------------------------------- 11.0/11.0 MB 2.5 MB/s eta 0:00:00\n",
      "Downloading seals-0.2.1-py3-none-any.whl (35 kB)\n",
      "Downloading alembic-1.14.0-py3-none-any.whl (233 kB)\n",
      "Downloading dill-0.3.8-py3-none-any.whl (116 kB)\n",
      "Downloading docopt_ng-0.9.0-py3-none-any.whl (16 kB)\n",
      "Downloading fsspec-2024.9.0-py3-none-any.whl (179 kB)\n",
      "Downloading aiohttp-3.11.4-cp312-cp312-win_amd64.whl (436 kB)\n",
      "Downloading huggingface_hub-0.26.2-py3-none-any.whl (447 kB)\n",
      "Using cached joblib-1.4.2-py3-none-any.whl (301 kB)\n",
      "Downloading jsonpickle-4.0.0-py3-none-any.whl (46 kB)\n",
      "Downloading multiprocess-0.70.16-py312-none-any.whl (146 kB)\n",
      "Downloading munch-4.0.0-py2.py3-none-any.whl (9.9 kB)\n",
      "Downloading py_cpuinfo-9.0.0-py3-none-any.whl (22 kB)\n",
      "Downloading pyarrow-18.0.0-cp312-cp312-win_amd64.whl (25.1 MB)\n",
      "   ---------------------------------------- 0.0/25.1 MB ? eta -:--:--\n",
      "   - -------------------------------------- 0.8/25.1 MB 4.2 MB/s eta 0:00:06\n",
      "   -- ------------------------------------- 1.3/25.1 MB 3.4 MB/s eta 0:00:08\n",
      "   -- ------------------------------------- 1.8/25.1 MB 3.0 MB/s eta 0:00:08\n",
      "   --- ------------------------------------ 2.4/25.1 MB 2.7 MB/s eta 0:00:09\n",
      "   ---- ----------------------------------- 2.9/25.1 MB 2.7 MB/s eta 0:00:09\n",
      "   ----- ---------------------------------- 3.7/25.1 MB 2.8 MB/s eta 0:00:08\n",
      "   ------ --------------------------------- 4.2/25.1 MB 3.0 MB/s eta 0:00:08\n",
      "   ------- -------------------------------- 4.7/25.1 MB 2.9 MB/s eta 0:00:08\n",
      "   -------- ------------------------------- 5.2/25.1 MB 2.7 MB/s eta 0:00:08\n",
      "   -------- ------------------------------- 5.5/25.1 MB 2.8 MB/s eta 0:00:08\n",
      "   --------- ------------------------------ 6.0/25.1 MB 2.7 MB/s eta 0:00:08\n",
      "   ---------- ----------------------------- 6.8/25.1 MB 2.7 MB/s eta 0:00:07\n",
      "   ------------ --------------------------- 7.6/25.1 MB 2.8 MB/s eta 0:00:07\n",
      "   ------------- -------------------------- 8.4/25.1 MB 2.8 MB/s eta 0:00:06\n",
      "   -------------- ------------------------- 8.9/25.1 MB 2.8 MB/s eta 0:00:06\n",
      "   --------------- ------------------------ 10.0/25.1 MB 2.9 MB/s eta 0:00:06\n",
      "   ----------------- ---------------------- 10.7/25.1 MB 3.0 MB/s eta 0:00:05\n",
      "   ------------------ --------------------- 11.8/25.1 MB 3.1 MB/s eta 0:00:05\n",
      "   -------------------- ------------------- 12.8/25.1 MB 3.2 MB/s eta 0:00:04\n",
      "   --------------------- ------------------ 13.4/25.1 MB 3.2 MB/s eta 0:00:04\n",
      "   ---------------------- ----------------- 14.2/25.1 MB 3.2 MB/s eta 0:00:04\n",
      "   ------------------------ --------------- 15.2/25.1 MB 3.2 MB/s eta 0:00:04\n",
      "   ------------------------- -------------- 16.0/25.1 MB 3.3 MB/s eta 0:00:03\n",
      "   -------------------------- ------------- 16.8/25.1 MB 3.3 MB/s eta 0:00:03\n",
      "   ---------------------------- ----------- 17.8/25.1 MB 3.4 MB/s eta 0:00:03\n",
      "   ------------------------------ --------- 18.9/25.1 MB 3.4 MB/s eta 0:00:02\n",
      "   ------------------------------- -------- 19.7/25.1 MB 3.4 MB/s eta 0:00:02\n",
      "   ------------------------------- -------- 19.9/25.1 MB 3.4 MB/s eta 0:00:02\n",
      "   --------------------------------- ------ 20.7/25.1 MB 3.4 MB/s eta 0:00:02\n",
      "   ---------------------------------- ----- 21.5/25.1 MB 3.4 MB/s eta 0:00:02\n",
      "   ----------------------------------- ---- 22.5/25.1 MB 3.4 MB/s eta 0:00:01\n",
      "   ------------------------------------- -- 23.3/25.1 MB 3.5 MB/s eta 0:00:01\n",
      "   -------------------------------------- - 24.4/25.1 MB 3.5 MB/s eta 0:00:01\n",
      "   ---------------------------------------- 25.1/25.1 MB 3.5 MB/s eta 0:00:00\n",
      "Downloading SQLAlchemy-2.0.36-cp312-cp312-win_amd64.whl (2.1 MB)\n",
      "   ---------------------------------------- 0.0/2.1 MB ? eta -:--:--\n",
      "   ---------- ----------------------------- 0.5/2.1 MB 2.4 MB/s eta 0:00:01\n",
      "   ------------------------------ --------- 1.6/2.1 MB 3.6 MB/s eta 0:00:01\n",
      "   ---------------------------------------- 2.1/2.1 MB 3.4 MB/s eta 0:00:00\n",
      "Using cached threadpoolctl-3.5.0-py3-none-any.whl (18 kB)\n",
      "Downloading wrapt-1.16.0-cp312-cp312-win_amd64.whl (37 kB)\n",
      "Downloading colorlog-6.9.0-py3-none-any.whl (11 kB)\n",
      "Downloading GitPython-3.1.43-py3-none-any.whl (207 kB)\n",
      "Downloading wasabi-1.1.3-py3-none-any.whl (27 kB)\n",
      "Downloading xxhash-3.5.0-cp312-cp312-win_amd64.whl (30 kB)\n",
      "Downloading aiohappyeyeballs-2.4.3-py3-none-any.whl (14 kB)\n",
      "Downloading aiosignal-1.3.1-py3-none-any.whl (7.6 kB)\n",
      "Downloading frozenlist-1.5.0-cp312-cp312-win_amd64.whl (51 kB)\n",
      "Downloading gitdb-4.0.11-py3-none-any.whl (62 kB)\n",
      "Downloading greenlet-3.1.1-cp312-cp312-win_amd64.whl (299 kB)\n",
      "Downloading multidict-6.1.0-cp312-cp312-win_amd64.whl (28 kB)\n",
      "Downloading propcache-0.2.0-cp312-cp312-win_amd64.whl (44 kB)\n",
      "Downloading yarl-1.17.2-cp312-cp312-win_amd64.whl (89 kB)\n",
      "Downloading Mako-1.3.6-py3-none-any.whl (78 kB)\n",
      "Downloading smmap-5.0.1-py3-none-any.whl (24 kB)\n",
      "Installing collected packages: py-cpuinfo, xxhash, wrapt, wasabi, threadpoolctl, smmap, pyarrow, propcache, munch, multidict, Mako, jsonpickle, joblib, gymnasium, greenlet, fsspec, frozenlist, docopt-ng, dill, colorlog, aiohappyeyeballs, yarl, sqlalchemy, seals, scikit-learn, multiprocess, huggingface-hub, gitdb, aiosignal, huggingface-sb3, GitPython, alembic, aiohttp, sacred, optuna, datasets, imitation\n",
      "  Attempting uninstall: gymnasium\n",
      "    Found existing installation: gymnasium 1.0.0\n",
      "    Uninstalling gymnasium-1.0.0:\n",
      "      Successfully uninstalled gymnasium-1.0.0\n",
      "  Attempting uninstall: fsspec\n",
      "    Found existing installation: fsspec 2024.10.0\n",
      "    Uninstalling fsspec-2024.10.0:\n",
      "      Successfully uninstalled fsspec-2024.10.0\n",
      "Successfully installed GitPython-3.1.43 Mako-1.3.6 aiohappyeyeballs-2.4.3 aiohttp-3.11.4 aiosignal-1.3.1 alembic-1.14.0 colorlog-6.9.0 datasets-3.1.0 dill-0.3.8 docopt-ng-0.9.0 frozenlist-1.5.0 fsspec-2024.9.0 gitdb-4.0.11 greenlet-3.1.1 gymnasium-0.29.1 huggingface-hub-0.26.2 huggingface-sb3-3.0 imitation-1.0.0 joblib-1.4.2 jsonpickle-4.0.0 multidict-6.1.0 multiprocess-0.70.16 munch-4.0.0 optuna-4.1.0 propcache-0.2.0 py-cpuinfo-9.0.0 pyarrow-18.0.0 sacred-0.8.6 scikit-learn-1.5.2 seals-0.2.1 smmap-5.0.1 sqlalchemy-2.0.36 threadpoolctl-3.5.0 wasabi-1.1.3 wrapt-1.16.0 xxhash-3.5.0 yarl-1.17.2\n"
=======
      "^C\n"
     ]
    },
    {
     "name": "stderr",
     "output_type": "stream",
     "text": [
      "\n",
      "EnvironmentNameNotFound: Could not find conda environment: imitation_env\n",
      "You can list all discoverable environments with `conda info --envs`.\n",
      "\n",
      "\n"
     ]
    },
    {
     "name": "stdout",
     "output_type": "stream",
     "text": [
      "Requirement already satisfied: stable-baselines3==2.4.0 in c:\\users\\sorbonne\\appdata\\local\\packages\\pythonsoftwarefoundation.python.3.9_qbz5n2kfra8p0\\localcache\\local-packages\\python39\\site-packages (2.4.0)\n",
      "Requirement already satisfied: gymnasium==0.29.1 in c:\\users\\sorbonne\\appdata\\local\\packages\\pythonsoftwarefoundation.python.3.9_qbz5n2kfra8p0\\localcache\\local-packages\\python39\\site-packages (0.29.1)\n",
      "Requirement already satisfied: imitation==1.0.0 in c:\\users\\sorbonne\\appdata\\local\\packages\\pythonsoftwarefoundation.python.3.9_qbz5n2kfra8p0\\localcache\\local-packages\\python39\\site-packages (1.0.0)\n",
      "Requirement already satisfied: numpy<2.0,>=1.20 in c:\\users\\sorbonne\\appdata\\local\\packages\\pythonsoftwarefoundation.python.3.9_qbz5n2kfra8p0\\localcache\\local-packages\\python39\\site-packages (from stable-baselines3==2.4.0) (1.23.0)\n",
      "Requirement already satisfied: torch>=1.13 in c:\\users\\sorbonne\\appdata\\local\\packages\\pythonsoftwarefoundation.python.3.9_qbz5n2kfra8p0\\localcache\\local-packages\\python39\\site-packages (from stable-baselines3==2.4.0) (2.5.1)\n",
      "Requirement already satisfied: cloudpickle in c:\\users\\sorbonne\\appdata\\local\\packages\\pythonsoftwarefoundation.python.3.9_qbz5n2kfra8p0\\localcache\\local-packages\\python39\\site-packages (from stable-baselines3==2.4.0) (3.1.0)\n",
      "Requirement already satisfied: pandas in c:\\users\\sorbonne\\appdata\\local\\packages\\pythonsoftwarefoundation.python.3.9_qbz5n2kfra8p0\\localcache\\local-packages\\python39\\site-packages (from stable-baselines3==2.4.0) (2.2.3)\n",
      "Requirement already satisfied: matplotlib in c:\\users\\sorbonne\\appdata\\local\\packages\\pythonsoftwarefoundation.python.3.9_qbz5n2kfra8p0\\localcache\\local-packages\\python39\\site-packages (from stable-baselines3==2.4.0) (3.7.1)\n",
      "Requirement already satisfied: typing-extensions>=4.3.0 in c:\\users\\sorbonne\\appdata\\local\\packages\\pythonsoftwarefoundation.python.3.9_qbz5n2kfra8p0\\localcache\\local-packages\\python39\\site-packages (from gymnasium==0.29.1) (4.12.2)\n",
      "Requirement already satisfied: farama-notifications>=0.0.1 in c:\\users\\sorbonne\\appdata\\local\\packages\\pythonsoftwarefoundation.python.3.9_qbz5n2kfra8p0\\localcache\\local-packages\\python39\\site-packages (from gymnasium==0.29.1) (0.0.4)\n",
      "Requirement already satisfied: importlib-metadata>=4.8.0 in c:\\users\\sorbonne\\appdata\\local\\packages\\pythonsoftwarefoundation.python.3.9_qbz5n2kfra8p0\\localcache\\local-packages\\python39\\site-packages (from gymnasium==0.29.1) (8.5.0)\n",
      "Requirement already satisfied: tqdm in c:\\users\\sorbonne\\appdata\\local\\packages\\pythonsoftwarefoundation.python.3.9_qbz5n2kfra8p0\\localcache\\local-packages\\python39\\site-packages (from imitation==1.0.0) (4.66.6)\n",
      "Requirement already satisfied: rich in c:\\users\\sorbonne\\appdata\\local\\packages\\pythonsoftwarefoundation.python.3.9_qbz5n2kfra8p0\\localcache\\local-packages\\python39\\site-packages (from imitation==1.0.0) (13.9.3)\n",
      "Requirement already satisfied: scikit-learn>=0.21.2 in c:\\users\\sorbonne\\appdata\\local\\packages\\pythonsoftwarefoundation.python.3.9_qbz5n2kfra8p0\\localcache\\local-packages\\python39\\site-packages (from imitation==1.0.0) (1.5.2)\n",
      "Requirement already satisfied: seals~=0.2.1 in c:\\users\\sorbonne\\appdata\\local\\packages\\pythonsoftwarefoundation.python.3.9_qbz5n2kfra8p0\\localcache\\local-packages\\python39\\site-packages (from imitation==1.0.0) (0.2.1)\n",
      "Requirement already satisfied: sacred>=0.8.4 in c:\\users\\sorbonne\\appdata\\local\\packages\\pythonsoftwarefoundation.python.3.9_qbz5n2kfra8p0\\localcache\\local-packages\\python39\\site-packages (from imitation==1.0.0) (0.8.6)\n",
      "Requirement already satisfied: tensorboard>=1.14 in c:\\users\\sorbonne\\appdata\\local\\packages\\pythonsoftwarefoundation.python.3.9_qbz5n2kfra8p0\\localcache\\local-packages\\python39\\site-packages (from imitation==1.0.0) (2.12.3)\n",
      "Requirement already satisfied: huggingface-sb3~=3.0 in c:\\users\\sorbonne\\appdata\\local\\packages\\pythonsoftwarefoundation.python.3.9_qbz5n2kfra8p0\\localcache\\local-packages\\python39\\site-packages (from imitation==1.0.0) (3.0)\n",
      "Requirement already satisfied: optuna>=3.0.1 in c:\\users\\sorbonne\\appdata\\local\\packages\\pythonsoftwarefoundation.python.3.9_qbz5n2kfra8p0\\localcache\\local-packages\\python39\\site-packages (from imitation==1.0.0) (4.0.0)\n",
      "Requirement already satisfied: datasets>=2.8.0 in c:\\users\\sorbonne\\appdata\\local\\packages\\pythonsoftwarefoundation.python.3.9_qbz5n2kfra8p0\\localcache\\local-packages\\python39\\site-packages (from imitation==1.0.0) (3.1.0)\n",
      "Requirement already satisfied: filelock in c:\\users\\sorbonne\\appdata\\local\\packages\\pythonsoftwarefoundation.python.3.9_qbz5n2kfra8p0\\localcache\\local-packages\\python39\\site-packages (from datasets>=2.8.0->imitation==1.0.0) (3.16.1)\n",
      "Requirement already satisfied: pyarrow>=15.0.0 in c:\\users\\sorbonne\\appdata\\local\\packages\\pythonsoftwarefoundation.python.3.9_qbz5n2kfra8p0\\localcache\\local-packages\\python39\\site-packages (from datasets>=2.8.0->imitation==1.0.0) (18.0.0)\n",
      "Requirement already satisfied: dill<0.3.9,>=0.3.0 in c:\\users\\sorbonne\\appdata\\local\\packages\\pythonsoftwarefoundation.python.3.9_qbz5n2kfra8p0\\localcache\\local-packages\\python39\\site-packages (from datasets>=2.8.0->imitation==1.0.0) (0.3.8)\n",
      "Requirement already satisfied: requests>=2.32.2 in c:\\users\\sorbonne\\appdata\\local\\packages\\pythonsoftwarefoundation.python.3.9_qbz5n2kfra8p0\\localcache\\local-packages\\python39\\site-packages (from datasets>=2.8.0->imitation==1.0.0) (2.32.3)\n",
      "Requirement already satisfied: xxhash in c:\\users\\sorbonne\\appdata\\local\\packages\\pythonsoftwarefoundation.python.3.9_qbz5n2kfra8p0\\localcache\\local-packages\\python39\\site-packages (from datasets>=2.8.0->imitation==1.0.0) (3.5.0)\n",
      "Requirement already satisfied: multiprocess<0.70.17 in c:\\users\\sorbonne\\appdata\\local\\packages\\pythonsoftwarefoundation.python.3.9_qbz5n2kfra8p0\\localcache\\local-packages\\python39\\site-packages (from datasets>=2.8.0->imitation==1.0.0) (0.70.16)\n",
      "Requirement already satisfied: fsspec<=2024.9.0,>=2023.1.0 in c:\\users\\sorbonne\\appdata\\local\\packages\\pythonsoftwarefoundation.python.3.9_qbz5n2kfra8p0\\localcache\\local-packages\\python39\\site-packages (from fsspec[http]<=2024.9.0,>=2023.1.0->datasets>=2.8.0->imitation==1.0.0) (2024.9.0)\n",
      "Requirement already satisfied: aiohttp in c:\\users\\sorbonne\\appdata\\local\\packages\\pythonsoftwarefoundation.python.3.9_qbz5n2kfra8p0\\localcache\\local-packages\\python39\\site-packages (from datasets>=2.8.0->imitation==1.0.0) (3.10.10)\n",
      "Requirement already satisfied: huggingface-hub>=0.23.0 in c:\\users\\sorbonne\\appdata\\local\\packages\\pythonsoftwarefoundation.python.3.9_qbz5n2kfra8p0\\localcache\\local-packages\\python39\\site-packages (from datasets>=2.8.0->imitation==1.0.0) (0.26.2)\n",
      "Requirement already satisfied: packaging in c:\\users\\sorbonne\\appdata\\local\\packages\\pythonsoftwarefoundation.python.3.9_qbz5n2kfra8p0\\localcache\\local-packages\\python39\\site-packages (from datasets>=2.8.0->imitation==1.0.0) (24.1)\n",
      "Requirement already satisfied: pyyaml>=5.1 in c:\\users\\sorbonne\\appdata\\local\\packages\\pythonsoftwarefoundation.python.3.9_qbz5n2kfra8p0\\localcache\\local-packages\\python39\\site-packages (from datasets>=2.8.0->imitation==1.0.0) (6.0.2)\n",
      "Requirement already satisfied: pygame>=2.1.3 in c:\\users\\sorbonne\\appdata\\local\\packages\\pythonsoftwarefoundation.python.3.9_qbz5n2kfra8p0\\localcache\\local-packages\\python39\\site-packages (from gymnasium[classic-control]~=0.29->imitation==1.0.0) (2.6.1)\n",
      "Requirement already satisfied: wasabi in c:\\users\\sorbonne\\appdata\\local\\packages\\pythonsoftwarefoundation.python.3.9_qbz5n2kfra8p0\\localcache\\local-packages\\python39\\site-packages (from huggingface-sb3~=3.0->imitation==1.0.0) (1.1.3)\n",
      "Requirement already satisfied: zipp>=3.20 in c:\\users\\sorbonne\\appdata\\local\\packages\\pythonsoftwarefoundation.python.3.9_qbz5n2kfra8p0\\localcache\\local-packages\\python39\\site-packages (from importlib-metadata>=4.8.0->gymnasium==0.29.1) (3.20.2)\n",
      "Requirement already satisfied: alembic>=1.5.0 in c:\\users\\sorbonne\\appdata\\local\\packages\\pythonsoftwarefoundation.python.3.9_qbz5n2kfra8p0\\localcache\\local-packages\\python39\\site-packages (from optuna>=3.0.1->imitation==1.0.0) (1.13.3)\n",
      "Requirement already satisfied: colorlog in c:\\users\\sorbonne\\appdata\\local\\packages\\pythonsoftwarefoundation.python.3.9_qbz5n2kfra8p0\\localcache\\local-packages\\python39\\site-packages (from optuna>=3.0.1->imitation==1.0.0) (6.9.0)\n",
      "Requirement already satisfied: sqlalchemy>=1.3.0 in c:\\users\\sorbonne\\appdata\\local\\packages\\pythonsoftwarefoundation.python.3.9_qbz5n2kfra8p0\\localcache\\local-packages\\python39\\site-packages (from optuna>=3.0.1->imitation==1.0.0) (2.0.36)\n",
      "Requirement already satisfied: docopt-ng<1.0,>=0.9 in c:\\users\\sorbonne\\appdata\\local\\packages\\pythonsoftwarefoundation.python.3.9_qbz5n2kfra8p0\\localcache\\local-packages\\python39\\site-packages (from sacred>=0.8.4->imitation==1.0.0) (0.9.0)\n",
      "Requirement already satisfied: jsonpickle>=2.2.0 in c:\\users\\sorbonne\\appdata\\local\\packages\\pythonsoftwarefoundation.python.3.9_qbz5n2kfra8p0\\localcache\\local-packages\\python39\\site-packages (from sacred>=0.8.4->imitation==1.0.0) (3.3.0)\n",
      "Requirement already satisfied: munch<5.0,>=2.5 in c:\\users\\sorbonne\\appdata\\local\\packages\\pythonsoftwarefoundation.python.3.9_qbz5n2kfra8p0\\localcache\\local-packages\\python39\\site-packages (from sacred>=0.8.4->imitation==1.0.0) (4.0.0)\n",
      "Requirement already satisfied: wrapt<2.0,>=1.0 in c:\\users\\sorbonne\\appdata\\local\\packages\\pythonsoftwarefoundation.python.3.9_qbz5n2kfra8p0\\localcache\\local-packages\\python39\\site-packages (from sacred>=0.8.4->imitation==1.0.0) (1.14.1)\n",
      "Requirement already satisfied: py-cpuinfo>=4.0 in c:\\users\\sorbonne\\appdata\\local\\packages\\pythonsoftwarefoundation.python.3.9_qbz5n2kfra8p0\\localcache\\local-packages\\python39\\site-packages (from sacred>=0.8.4->imitation==1.0.0) (9.0.0)\n",
      "Requirement already satisfied: colorama>=0.4 in c:\\users\\sorbonne\\appdata\\local\\packages\\pythonsoftwarefoundation.python.3.9_qbz5n2kfra8p0\\localcache\\local-packages\\python39\\site-packages (from sacred>=0.8.4->imitation==1.0.0) (0.4.6)\n",
      "Requirement already satisfied: GitPython in c:\\users\\sorbonne\\appdata\\local\\packages\\pythonsoftwarefoundation.python.3.9_qbz5n2kfra8p0\\localcache\\local-packages\\python39\\site-packages (from sacred>=0.8.4->imitation==1.0.0) (3.1.43)\n",
      "Requirement already satisfied: scipy>=1.6.0 in c:\\users\\sorbonne\\appdata\\local\\packages\\pythonsoftwarefoundation.python.3.9_qbz5n2kfra8p0\\localcache\\local-packages\\python39\\site-packages (from scikit-learn>=0.21.2->imitation==1.0.0) (1.13.1)\n",
      "Requirement already satisfied: joblib>=1.2.0 in c:\\users\\sorbonne\\appdata\\local\\packages\\pythonsoftwarefoundation.python.3.9_qbz5n2kfra8p0\\localcache\\local-packages\\python39\\site-packages (from scikit-learn>=0.21.2->imitation==1.0.0) (1.4.2)\n",
      "Requirement already satisfied: threadpoolctl>=3.1.0 in c:\\users\\sorbonne\\appdata\\local\\packages\\pythonsoftwarefoundation.python.3.9_qbz5n2kfra8p0\\localcache\\local-packages\\python39\\site-packages (from scikit-learn>=0.21.2->imitation==1.0.0) (3.5.0)\n",
      "Requirement already satisfied: absl-py>=0.4 in c:\\users\\sorbonne\\appdata\\local\\packages\\pythonsoftwarefoundation.python.3.9_qbz5n2kfra8p0\\localcache\\local-packages\\python39\\site-packages (from tensorboard>=1.14->imitation==1.0.0) (2.1.0)\n",
      "Requirement already satisfied: grpcio>=1.48.2 in c:\\users\\sorbonne\\appdata\\local\\packages\\pythonsoftwarefoundation.python.3.9_qbz5n2kfra8p0\\localcache\\local-packages\\python39\\site-packages (from tensorboard>=1.14->imitation==1.0.0) (1.67.1)\n",
      "Requirement already satisfied: google-auth<3,>=1.6.3 in c:\\users\\sorbonne\\appdata\\local\\packages\\pythonsoftwarefoundation.python.3.9_qbz5n2kfra8p0\\localcache\\local-packages\\python39\\site-packages (from tensorboard>=1.14->imitation==1.0.0) (2.36.0)\n",
      "Requirement already satisfied: google-auth-oauthlib<1.1,>=0.5 in c:\\users\\sorbonne\\appdata\\local\\packages\\pythonsoftwarefoundation.python.3.9_qbz5n2kfra8p0\\localcache\\local-packages\\python39\\site-packages (from tensorboard>=1.14->imitation==1.0.0) (1.0.0)\n",
      "Requirement already satisfied: markdown>=2.6.8 in c:\\users\\sorbonne\\appdata\\local\\packages\\pythonsoftwarefoundation.python.3.9_qbz5n2kfra8p0\\localcache\\local-packages\\python39\\site-packages (from tensorboard>=1.14->imitation==1.0.0) (3.7)\n",
      "Requirement already satisfied: protobuf>=3.19.6 in c:\\users\\sorbonne\\appdata\\local\\packages\\pythonsoftwarefoundation.python.3.9_qbz5n2kfra8p0\\localcache\\local-packages\\python39\\site-packages (from tensorboard>=1.14->imitation==1.0.0) (4.25.5)\n",
      "Requirement already satisfied: setuptools>=41.0.0 in c:\\users\\sorbonne\\appdata\\local\\packages\\pythonsoftwarefoundation.python.3.9_qbz5n2kfra8p0\\localcache\\local-packages\\python39\\site-packages (from tensorboard>=1.14->imitation==1.0.0) (75.3.0)\n",
      "Requirement already satisfied: tensorboard-data-server<0.8.0,>=0.7.0 in c:\\users\\sorbonne\\appdata\\local\\packages\\pythonsoftwarefoundation.python.3.9_qbz5n2kfra8p0\\localcache\\local-packages\\python39\\site-packages (from tensorboard>=1.14->imitation==1.0.0) (0.7.2)\n",
      "Requirement already satisfied: werkzeug>=1.0.1 in c:\\users\\sorbonne\\appdata\\local\\packages\\pythonsoftwarefoundation.python.3.9_qbz5n2kfra8p0\\localcache\\local-packages\\python39\\site-packages (from tensorboard>=1.14->imitation==1.0.0) (3.0.6)\n",
      "Requirement already satisfied: wheel>=0.26 in c:\\users\\sorbonne\\appdata\\local\\packages\\pythonsoftwarefoundation.python.3.9_qbz5n2kfra8p0\\localcache\\local-packages\\python39\\site-packages (from tensorboard>=1.14->imitation==1.0.0) (0.44.0)\n",
      "Requirement already satisfied: networkx in c:\\users\\sorbonne\\appdata\\local\\packages\\pythonsoftwarefoundation.python.3.9_qbz5n2kfra8p0\\localcache\\local-packages\\python39\\site-packages (from torch>=1.13->stable-baselines3==2.4.0) (3.2.1)\n",
      "Requirement already satisfied: jinja2 in c:\\users\\sorbonne\\appdata\\local\\packages\\pythonsoftwarefoundation.python.3.9_qbz5n2kfra8p0\\localcache\\local-packages\\python39\\site-packages (from torch>=1.13->stable-baselines3==2.4.0) (3.1.4)\n",
      "Requirement already satisfied: sympy==1.13.1 in c:\\users\\sorbonne\\appdata\\local\\packages\\pythonsoftwarefoundation.python.3.9_qbz5n2kfra8p0\\localcache\\local-packages\\python39\\site-packages (from torch>=1.13->stable-baselines3==2.4.0) (1.13.1)\n",
      "Requirement already satisfied: mpmath<1.4,>=1.1.0 in c:\\users\\sorbonne\\appdata\\local\\packages\\pythonsoftwarefoundation.python.3.9_qbz5n2kfra8p0\\localcache\\local-packages\\python39\\site-packages (from sympy==1.13.1->torch>=1.13->stable-baselines3==2.4.0) (1.3.0)\n",
      "Requirement already satisfied: contourpy>=1.0.1 in c:\\users\\sorbonne\\appdata\\local\\packages\\pythonsoftwarefoundation.python.3.9_qbz5n2kfra8p0\\localcache\\local-packages\\python39\\site-packages (from matplotlib->stable-baselines3==2.4.0) (1.3.0)\n",
      "Requirement already satisfied: cycler>=0.10 in c:\\users\\sorbonne\\appdata\\local\\packages\\pythonsoftwarefoundation.python.3.9_qbz5n2kfra8p0\\localcache\\local-packages\\python39\\site-packages (from matplotlib->stable-baselines3==2.4.0) (0.12.1)\n",
      "Requirement already satisfied: fonttools>=4.22.0 in c:\\users\\sorbonne\\appdata\\local\\packages\\pythonsoftwarefoundation.python.3.9_qbz5n2kfra8p0\\localcache\\local-packages\\python39\\site-packages (from matplotlib->stable-baselines3==2.4.0) (4.54.1)\n",
      "Requirement already satisfied: kiwisolver>=1.0.1 in c:\\users\\sorbonne\\appdata\\local\\packages\\pythonsoftwarefoundation.python.3.9_qbz5n2kfra8p0\\localcache\\local-packages\\python39\\site-packages (from matplotlib->stable-baselines3==2.4.0) (1.4.7)\n",
      "Requirement already satisfied: pillow>=6.2.0 in c:\\users\\sorbonne\\appdata\\local\\packages\\pythonsoftwarefoundation.python.3.9_qbz5n2kfra8p0\\localcache\\local-packages\\python39\\site-packages (from matplotlib->stable-baselines3==2.4.0) (11.0.0)\n",
      "Requirement already satisfied: pyparsing>=2.3.1 in c:\\users\\sorbonne\\appdata\\local\\packages\\pythonsoftwarefoundation.python.3.9_qbz5n2kfra8p0\\localcache\\local-packages\\python39\\site-packages (from matplotlib->stable-baselines3==2.4.0) (3.2.0)\n",
      "Requirement already satisfied: python-dateutil>=2.7 in c:\\users\\sorbonne\\appdata\\local\\packages\\pythonsoftwarefoundation.python.3.9_qbz5n2kfra8p0\\localcache\\local-packages\\python39\\site-packages (from matplotlib->stable-baselines3==2.4.0) (2.9.0.post0)\n",
      "Requirement already satisfied: importlib-resources>=3.2.0 in c:\\users\\sorbonne\\appdata\\local\\packages\\pythonsoftwarefoundation.python.3.9_qbz5n2kfra8p0\\localcache\\local-packages\\python39\\site-packages (from matplotlib->stable-baselines3==2.4.0) (6.4.5)\n",
      "Requirement already satisfied: pytz>=2020.1 in c:\\users\\sorbonne\\appdata\\local\\packages\\pythonsoftwarefoundation.python.3.9_qbz5n2kfra8p0\\localcache\\local-packages\\python39\\site-packages (from pandas->stable-baselines3==2.4.0) (2024.2)\n",
      "Requirement already satisfied: tzdata>=2022.7 in c:\\users\\sorbonne\\appdata\\local\\packages\\pythonsoftwarefoundation.python.3.9_qbz5n2kfra8p0\\localcache\\local-packages\\python39\\site-packages (from pandas->stable-baselines3==2.4.0) (2024.2)\n",
      "Requirement already satisfied: markdown-it-py>=2.2.0 in c:\\users\\sorbonne\\appdata\\local\\packages\\pythonsoftwarefoundation.python.3.9_qbz5n2kfra8p0\\localcache\\local-packages\\python39\\site-packages (from rich->imitation==1.0.0) (3.0.0)\n",
      "Requirement already satisfied: pygments<3.0.0,>=2.13.0 in c:\\users\\sorbonne\\appdata\\local\\packages\\pythonsoftwarefoundation.python.3.9_qbz5n2kfra8p0\\localcache\\local-packages\\python39\\site-packages (from rich->imitation==1.0.0) (2.18.0)\n",
      "Requirement already satisfied: Mako in c:\\users\\sorbonne\\appdata\\local\\packages\\pythonsoftwarefoundation.python.3.9_qbz5n2kfra8p0\\localcache\\local-packages\\python39\\site-packages (from alembic>=1.5.0->optuna>=3.0.1->imitation==1.0.0) (1.3.6)\n",
      "Requirement already satisfied: aiohappyeyeballs>=2.3.0 in c:\\users\\sorbonne\\appdata\\local\\packages\\pythonsoftwarefoundation.python.3.9_qbz5n2kfra8p0\\localcache\\local-packages\\python39\\site-packages (from aiohttp->datasets>=2.8.0->imitation==1.0.0) (2.4.3)\n",
      "Requirement already satisfied: aiosignal>=1.1.2 in c:\\users\\sorbonne\\appdata\\local\\packages\\pythonsoftwarefoundation.python.3.9_qbz5n2kfra8p0\\localcache\\local-packages\\python39\\site-packages (from aiohttp->datasets>=2.8.0->imitation==1.0.0) (1.3.1)\n",
      "Requirement already satisfied: attrs>=17.3.0 in c:\\users\\sorbonne\\appdata\\local\\packages\\pythonsoftwarefoundation.python.3.9_qbz5n2kfra8p0\\localcache\\local-packages\\python39\\site-packages (from aiohttp->datasets>=2.8.0->imitation==1.0.0) (24.2.0)\n",
      "Requirement already satisfied: frozenlist>=1.1.1 in c:\\users\\sorbonne\\appdata\\local\\packages\\pythonsoftwarefoundation.python.3.9_qbz5n2kfra8p0\\localcache\\local-packages\\python39\\site-packages (from aiohttp->datasets>=2.8.0->imitation==1.0.0) (1.5.0)\n",
      "Requirement already satisfied: multidict<7.0,>=4.5 in c:\\users\\sorbonne\\appdata\\local\\packages\\pythonsoftwarefoundation.python.3.9_qbz5n2kfra8p0\\localcache\\local-packages\\python39\\site-packages (from aiohttp->datasets>=2.8.0->imitation==1.0.0) (6.1.0)\n",
      "Requirement already satisfied: yarl<2.0,>=1.12.0 in c:\\users\\sorbonne\\appdata\\local\\packages\\pythonsoftwarefoundation.python.3.9_qbz5n2kfra8p0\\localcache\\local-packages\\python39\\site-packages (from aiohttp->datasets>=2.8.0->imitation==1.0.0) (1.17.1)\n",
      "Requirement already satisfied: async-timeout<5.0,>=4.0 in c:\\users\\sorbonne\\appdata\\local\\packages\\pythonsoftwarefoundation.python.3.9_qbz5n2kfra8p0\\localcache\\local-packages\\python39\\site-packages (from aiohttp->datasets>=2.8.0->imitation==1.0.0) (4.0.3)\n",
      "Requirement already satisfied: cachetools<6.0,>=2.0.0 in c:\\users\\sorbonne\\appdata\\local\\packages\\pythonsoftwarefoundation.python.3.9_qbz5n2kfra8p0\\localcache\\local-packages\\python39\\site-packages (from google-auth<3,>=1.6.3->tensorboard>=1.14->imitation==1.0.0) (5.5.0)\n",
      "Requirement already satisfied: pyasn1-modules>=0.2.1 in c:\\users\\sorbonne\\appdata\\local\\packages\\pythonsoftwarefoundation.python.3.9_qbz5n2kfra8p0\\localcache\\local-packages\\python39\\site-packages (from google-auth<3,>=1.6.3->tensorboard>=1.14->imitation==1.0.0) (0.4.1)\n",
      "Requirement already satisfied: rsa<5,>=3.1.4 in c:\\users\\sorbonne\\appdata\\local\\packages\\pythonsoftwarefoundation.python.3.9_qbz5n2kfra8p0\\localcache\\local-packages\\python39\\site-packages (from google-auth<3,>=1.6.3->tensorboard>=1.14->imitation==1.0.0) (4.9)\n",
      "Requirement already satisfied: requests-oauthlib>=0.7.0 in c:\\users\\sorbonne\\appdata\\local\\packages\\pythonsoftwarefoundation.python.3.9_qbz5n2kfra8p0\\localcache\\local-packages\\python39\\site-packages (from google-auth-oauthlib<1.1,>=0.5->tensorboard>=1.14->imitation==1.0.0) (2.0.0)\n",
      "Requirement already satisfied: mdurl~=0.1 in c:\\users\\sorbonne\\appdata\\local\\packages\\pythonsoftwarefoundation.python.3.9_qbz5n2kfra8p0\\localcache\\local-packages\\python39\\site-packages (from markdown-it-py>=2.2.0->rich->imitation==1.0.0) (0.1.2)\n",
      "Requirement already satisfied: six>=1.5 in c:\\users\\sorbonne\\appdata\\local\\packages\\pythonsoftwarefoundation.python.3.9_qbz5n2kfra8p0\\localcache\\local-packages\\python39\\site-packages (from python-dateutil>=2.7->matplotlib->stable-baselines3==2.4.0) (1.16.0)\n",
      "Requirement already satisfied: charset-normalizer<4,>=2 in c:\\users\\sorbonne\\appdata\\local\\packages\\pythonsoftwarefoundation.python.3.9_qbz5n2kfra8p0\\localcache\\local-packages\\python39\\site-packages (from requests>=2.32.2->datasets>=2.8.0->imitation==1.0.0) (3.4.0)\n",
      "Requirement already satisfied: idna<4,>=2.5 in c:\\users\\sorbonne\\appdata\\local\\packages\\pythonsoftwarefoundation.python.3.9_qbz5n2kfra8p0\\localcache\\local-packages\\python39\\site-packages (from requests>=2.32.2->datasets>=2.8.0->imitation==1.0.0) (3.10)\n",
      "Requirement already satisfied: urllib3<3,>=1.21.1 in c:\\users\\sorbonne\\appdata\\local\\packages\\pythonsoftwarefoundation.python.3.9_qbz5n2kfra8p0\\localcache\\local-packages\\python39\\site-packages (from requests>=2.32.2->datasets>=2.8.0->imitation==1.0.0) (2.2.3)\n",
      "Requirement already satisfied: certifi>=2017.4.17 in c:\\users\\sorbonne\\appdata\\local\\packages\\pythonsoftwarefoundation.python.3.9_qbz5n2kfra8p0\\localcache\\local-packages\\python39\\site-packages (from requests>=2.32.2->datasets>=2.8.0->imitation==1.0.0) (2024.8.30)\n",
      "Requirement already satisfied: greenlet!=0.4.17 in c:\\users\\sorbonne\\appdata\\local\\packages\\pythonsoftwarefoundation.python.3.9_qbz5n2kfra8p0\\localcache\\local-packages\\python39\\site-packages (from sqlalchemy>=1.3.0->optuna>=3.0.1->imitation==1.0.0) (3.1.1)\n",
      "Requirement already satisfied: MarkupSafe>=2.1.1 in c:\\users\\sorbonne\\appdata\\local\\packages\\pythonsoftwarefoundation.python.3.9_qbz5n2kfra8p0\\localcache\\local-packages\\python39\\site-packages (from werkzeug>=1.0.1->tensorboard>=1.14->imitation==1.0.0) (3.0.2)\n",
      "Requirement already satisfied: gitdb<5,>=4.0.1 in c:\\users\\sorbonne\\appdata\\local\\packages\\pythonsoftwarefoundation.python.3.9_qbz5n2kfra8p0\\localcache\\local-packages\\python39\\site-packages (from GitPython->sacred>=0.8.4->imitation==1.0.0) (4.0.11)\n",
      "Requirement already satisfied: smmap<6,>=3.0.1 in c:\\users\\sorbonne\\appdata\\local\\packages\\pythonsoftwarefoundation.python.3.9_qbz5n2kfra8p0\\localcache\\local-packages\\python39\\site-packages (from gitdb<5,>=4.0.1->GitPython->sacred>=0.8.4->imitation==1.0.0) (5.0.1)\n",
      "Requirement already satisfied: pyasn1<0.7.0,>=0.4.6 in c:\\users\\sorbonne\\appdata\\local\\packages\\pythonsoftwarefoundation.python.3.9_qbz5n2kfra8p0\\localcache\\local-packages\\python39\\site-packages (from pyasn1-modules>=0.2.1->google-auth<3,>=1.6.3->tensorboard>=1.14->imitation==1.0.0) (0.6.1)\n",
      "Requirement already satisfied: oauthlib>=3.0.0 in c:\\users\\sorbonne\\appdata\\local\\packages\\pythonsoftwarefoundation.python.3.9_qbz5n2kfra8p0\\localcache\\local-packages\\python39\\site-packages (from requests-oauthlib>=0.7.0->google-auth-oauthlib<1.1,>=0.5->tensorboard>=1.14->imitation==1.0.0) (3.2.2)\n",
      "Requirement already satisfied: propcache>=0.2.0 in c:\\users\\sorbonne\\appdata\\local\\packages\\pythonsoftwarefoundation.python.3.9_qbz5n2kfra8p0\\localcache\\local-packages\\python39\\site-packages (from yarl<2.0,>=1.12.0->aiohttp->datasets>=2.8.0->imitation==1.0.0) (0.2.0)\n"
>>>>>>> f9e210c (Sauvegarde des modifications locales)
     ]
    }
   ],
   "source": [
<<<<<<< HEAD
    "!pip install imitation --default-timeout=100\n"
=======
    "!conda create -n imitation_env python=3.9\n",
    "!conda activate imitation_env\n",
    "!pip install stable-baselines3==2.4.0 gymnasium==0.29.1 imitation==1.0.0\n"
>>>>>>> f9e210c (Sauvegarde des modifications locales)
   ]
  }
 ],
 "metadata": {
  "kernelspec": {
<<<<<<< HEAD
   "display_name": "base",
=======
   "display_name": "Python 3",
>>>>>>> f9e210c (Sauvegarde des modifications locales)
   "language": "python",
   "name": "python3"
  },
  "language_info": {
   "codemirror_mode": {
    "name": "ipython",
    "version": 3
   },
   "file_extension": ".py",
   "mimetype": "text/x-python",
   "name": "python",
   "nbconvert_exporter": "python",
   "pygments_lexer": "ipython3",
<<<<<<< HEAD
   "version": "3.12.7"
=======
   "version": "3.9.13"
>>>>>>> f9e210c (Sauvegarde des modifications locales)
  }
 },
 "nbformat": 4,
 "nbformat_minor": 2
}
